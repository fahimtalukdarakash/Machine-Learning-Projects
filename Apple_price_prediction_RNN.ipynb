{
  "cells": [
    {
      "cell_type": "markdown",
      "id": "a8a94cc1",
      "metadata": {
        "id": "a8a94cc1"
      },
      "source": [
        "<a \n",
        " href=\"https://colab.research.google.com/github/LearnPythonWithRune/MachineLearningWithPython/blob/main/colab/final/10 - Lesson - Recurrent Neural Network.ipynb\"\n",
        " target=\"_parent\">\n",
        "<img \n",
        " src=\"https://colab.research.google.com/assets/colab-badge.svg\"\n",
        "alt=\"Open In Colab\"/>\n",
        "</a>"
      ]
    },
    {
      "cell_type": "markdown",
      "id": "4993ca55",
      "metadata": {
        "id": "4993ca55"
      },
      "source": [
        "# Recurrent Neural Network (RNN)\n",
        "### Goal of lesson\n",
        "- Understand Recurrent Neural Network (RNN)\n",
        "- Build a RNN on a timeseries\n",
        "- Hover over the theory of RNN (LSTM cells)\n",
        "- Use the MinMaxScaler from sklearn.\n",
        "- Create a RNN model with tensorflow\n",
        "- Applying the Dropout techniques.\n",
        "- Predict stock prices and make weather forecast using RNN.\n",
        "\n",
        "### Feed-Forward Neural Network\n",
        "- Neural network that has connection only in one direction\n",
        "\n",
        "### Recurrent Neural Network\n",
        "- Neural network that generates output that feeds back into its own inputs\n",
        "- Can do one-to-many and many-to-many relationship (not possible for feed-forward neural networks)\n",
        "- This can generate sentences (while feed-forward neural network can only generate \"words\" or fixed sets of outputs)\n",
        "- For time series\n",
        "\n",
        "![RNN](img/rnn.png)\n",
        "\n",
        "### Examples Recurrent Neural Network\n",
        "- Google translate\n",
        "- Voice recognition\n",
        "- Video copy right violation"
      ]
    },
    {
      "cell_type": "markdown",
      "id": "11047afa",
      "metadata": {
        "id": "11047afa"
      },
      "source": [
        "### Theory\n",
        "- It is complex - and luckily - not needed to understand in depth\n",
        "- Quote of the author of Keras (Francios Chollet):\n",
        "    - \"*You don't need to understand everything about the specific architecutre of an LSTM cell [...] just that LSTM cell is meant to allow past information to be reinjected at a later time.*\""
      ]
    },
    {
      "cell_type": "markdown",
      "id": "61c11de8",
      "metadata": {
        "id": "61c11de8"
      },
      "source": [
        "> #### Programming Notes:\n",
        "> - Libraries used\n",
        ">     - [**pandas**](https://pandas.pydata.org) - a data analysis and manipulation tool\n",
        ">     - [**numpy**](http://numpy.org) - scientific computing with Python ([Lecture on NumPy](https://youtu.be/BpzpU8_j0-c))\n",
        ">     - [**matplotlib**](http://matplotlib.org) - visualization with Python ([Lecture on **visualization**](https://youtu.be/htIh8YHh4xs))\n",
        ">     - [**tensorflow**](https://www.tensorflow.org) - end-to-end open source machine learning platform\n",
        "> - Functionality and concepts used\n",
        ">     - [**CSV**](https://en.wikipedia.org/wiki/Comma-separated_values) file ([Lecture on CSV](https://youtu.be/LEyojSOg4EI))\n",
        ">     - [**read_csv()**](https://pandas.pydata.org/pandas-docs/stable/reference/api/pandas.read_csv.html) read a comma-separated values (csv) file into **pandas** DataFrame.\n",
        ">     - [**MinMaxScaler**](https://scikit-learn.org/stable/modules/generated/sklearn.preprocessing.MinMaxScaler.html) Transform features by scaling each feature to a given range\n",
        ">     - [**Sequential**](https://www.tensorflow.org/api_docs/python/tf/keras/Sequential) provides training and inference features for a model\n",
        ">     - [**Dense**](https://www.tensorflow.org/api_docs/python/tf/keras/layers/Dense) regular densely-connected Neural Network (NN) layer.\n",
        ">     - [**Dropout**](https://www.tensorflow.org/api_docs/python/tf/keras/layers/Dropout) applies Dropout to the input\n",
        ">     - [**LSTM**](https://www.tensorflow.org/api_docs/python/tf/keras/layers/LSTM) Long Short-Term Memory layer - Hochreiter 1997"
      ]
    },
    {
      "cell_type": "code",
      "execution_count": null,
      "id": "c50eceef",
      "metadata": {
        "id": "c50eceef"
      },
      "outputs": [],
      "source": [
        "import numpy as np\n",
        "import pandas as pd\n",
        "from sklearn.preprocessing import MinMaxScaler\n",
        "from tensorflow.keras.models import Sequential\n",
        "from tensorflow.keras.layers import Dense\n",
        "from tensorflow.keras.layers import LSTM\n",
        "from tensorflow.keras.layers import Dropout\n",
        "import matplotlib.pyplot as plt\n",
        "%matplotlib inline"
      ]
    },
    {
      "cell_type": "code",
      "execution_count": null,
      "id": "1915b5d5",
      "metadata": {
        "id": "1915b5d5"
      },
      "outputs": [],
      "source": [
        "data = pd.read_csv('aapl.csv', parse_dates=True, index_col=0)"
      ]
    },
    {
      "cell_type": "code",
      "execution_count": null,
      "id": "30a00a53",
      "metadata": {
        "colab": {
          "base_uri": "https://localhost:8080/",
          "height": 238
        },
        "id": "30a00a53",
        "outputId": "3329038a-2fb6-4b23-c186-674d41ab9a75"
      },
      "outputs": [
        {
          "output_type": "execute_result",
          "data": {
            "text/plain": [
              "                High       Low      Open     Close       Volume  Adj Close\n",
              "Date                                                                      \n",
              "2000-01-03  1.004464  0.907924  0.936384  0.999442  535796800.0   0.858137\n",
              "2000-01-04  0.987723  0.903460  0.966518  0.915179  512377600.0   0.785788\n",
              "2000-01-05  0.987165  0.919643  0.926339  0.928571  778321600.0   0.797286\n",
              "2000-01-06  0.955357  0.848214  0.947545  0.848214  767972800.0   0.728291\n",
              "2000-01-07  0.901786  0.852679  0.861607  0.888393  460734400.0   0.762789"
            ],
            "text/html": [
              "\n",
              "  <div id=\"df-3493448e-f364-4e88-abae-42d726c69197\">\n",
              "    <div class=\"colab-df-container\">\n",
              "      <div>\n",
              "<style scoped>\n",
              "    .dataframe tbody tr th:only-of-type {\n",
              "        vertical-align: middle;\n",
              "    }\n",
              "\n",
              "    .dataframe tbody tr th {\n",
              "        vertical-align: top;\n",
              "    }\n",
              "\n",
              "    .dataframe thead th {\n",
              "        text-align: right;\n",
              "    }\n",
              "</style>\n",
              "<table border=\"1\" class=\"dataframe\">\n",
              "  <thead>\n",
              "    <tr style=\"text-align: right;\">\n",
              "      <th></th>\n",
              "      <th>High</th>\n",
              "      <th>Low</th>\n",
              "      <th>Open</th>\n",
              "      <th>Close</th>\n",
              "      <th>Volume</th>\n",
              "      <th>Adj Close</th>\n",
              "    </tr>\n",
              "    <tr>\n",
              "      <th>Date</th>\n",
              "      <th></th>\n",
              "      <th></th>\n",
              "      <th></th>\n",
              "      <th></th>\n",
              "      <th></th>\n",
              "      <th></th>\n",
              "    </tr>\n",
              "  </thead>\n",
              "  <tbody>\n",
              "    <tr>\n",
              "      <th>2000-01-03</th>\n",
              "      <td>1.004464</td>\n",
              "      <td>0.907924</td>\n",
              "      <td>0.936384</td>\n",
              "      <td>0.999442</td>\n",
              "      <td>535796800.0</td>\n",
              "      <td>0.858137</td>\n",
              "    </tr>\n",
              "    <tr>\n",
              "      <th>2000-01-04</th>\n",
              "      <td>0.987723</td>\n",
              "      <td>0.903460</td>\n",
              "      <td>0.966518</td>\n",
              "      <td>0.915179</td>\n",
              "      <td>512377600.0</td>\n",
              "      <td>0.785788</td>\n",
              "    </tr>\n",
              "    <tr>\n",
              "      <th>2000-01-05</th>\n",
              "      <td>0.987165</td>\n",
              "      <td>0.919643</td>\n",
              "      <td>0.926339</td>\n",
              "      <td>0.928571</td>\n",
              "      <td>778321600.0</td>\n",
              "      <td>0.797286</td>\n",
              "    </tr>\n",
              "    <tr>\n",
              "      <th>2000-01-06</th>\n",
              "      <td>0.955357</td>\n",
              "      <td>0.848214</td>\n",
              "      <td>0.947545</td>\n",
              "      <td>0.848214</td>\n",
              "      <td>767972800.0</td>\n",
              "      <td>0.728291</td>\n",
              "    </tr>\n",
              "    <tr>\n",
              "      <th>2000-01-07</th>\n",
              "      <td>0.901786</td>\n",
              "      <td>0.852679</td>\n",
              "      <td>0.861607</td>\n",
              "      <td>0.888393</td>\n",
              "      <td>460734400.0</td>\n",
              "      <td>0.762789</td>\n",
              "    </tr>\n",
              "  </tbody>\n",
              "</table>\n",
              "</div>\n",
              "      <button class=\"colab-df-convert\" onclick=\"convertToInteractive('df-3493448e-f364-4e88-abae-42d726c69197')\"\n",
              "              title=\"Convert this dataframe to an interactive table.\"\n",
              "              style=\"display:none;\">\n",
              "        \n",
              "  <svg xmlns=\"http://www.w3.org/2000/svg\" height=\"24px\"viewBox=\"0 0 24 24\"\n",
              "       width=\"24px\">\n",
              "    <path d=\"M0 0h24v24H0V0z\" fill=\"none\"/>\n",
              "    <path d=\"M18.56 5.44l.94 2.06.94-2.06 2.06-.94-2.06-.94-.94-2.06-.94 2.06-2.06.94zm-11 1L8.5 8.5l.94-2.06 2.06-.94-2.06-.94L8.5 2.5l-.94 2.06-2.06.94zm10 10l.94 2.06.94-2.06 2.06-.94-2.06-.94-.94-2.06-.94 2.06-2.06.94z\"/><path d=\"M17.41 7.96l-1.37-1.37c-.4-.4-.92-.59-1.43-.59-.52 0-1.04.2-1.43.59L10.3 9.45l-7.72 7.72c-.78.78-.78 2.05 0 2.83L4 21.41c.39.39.9.59 1.41.59.51 0 1.02-.2 1.41-.59l7.78-7.78 2.81-2.81c.8-.78.8-2.07 0-2.86zM5.41 20L4 18.59l7.72-7.72 1.47 1.35L5.41 20z\"/>\n",
              "  </svg>\n",
              "      </button>\n",
              "      \n",
              "  <style>\n",
              "    .colab-df-container {\n",
              "      display:flex;\n",
              "      flex-wrap:wrap;\n",
              "      gap: 12px;\n",
              "    }\n",
              "\n",
              "    .colab-df-convert {\n",
              "      background-color: #E8F0FE;\n",
              "      border: none;\n",
              "      border-radius: 50%;\n",
              "      cursor: pointer;\n",
              "      display: none;\n",
              "      fill: #1967D2;\n",
              "      height: 32px;\n",
              "      padding: 0 0 0 0;\n",
              "      width: 32px;\n",
              "    }\n",
              "\n",
              "    .colab-df-convert:hover {\n",
              "      background-color: #E2EBFA;\n",
              "      box-shadow: 0px 1px 2px rgba(60, 64, 67, 0.3), 0px 1px 3px 1px rgba(60, 64, 67, 0.15);\n",
              "      fill: #174EA6;\n",
              "    }\n",
              "\n",
              "    [theme=dark] .colab-df-convert {\n",
              "      background-color: #3B4455;\n",
              "      fill: #D2E3FC;\n",
              "    }\n",
              "\n",
              "    [theme=dark] .colab-df-convert:hover {\n",
              "      background-color: #434B5C;\n",
              "      box-shadow: 0px 1px 3px 1px rgba(0, 0, 0, 0.15);\n",
              "      filter: drop-shadow(0px 1px 2px rgba(0, 0, 0, 0.3));\n",
              "      fill: #FFFFFF;\n",
              "    }\n",
              "  </style>\n",
              "\n",
              "      <script>\n",
              "        const buttonEl =\n",
              "          document.querySelector('#df-3493448e-f364-4e88-abae-42d726c69197 button.colab-df-convert');\n",
              "        buttonEl.style.display =\n",
              "          google.colab.kernel.accessAllowed ? 'block' : 'none';\n",
              "\n",
              "        async function convertToInteractive(key) {\n",
              "          const element = document.querySelector('#df-3493448e-f364-4e88-abae-42d726c69197');\n",
              "          const dataTable =\n",
              "            await google.colab.kernel.invokeFunction('convertToInteractive',\n",
              "                                                     [key], {});\n",
              "          if (!dataTable) return;\n",
              "\n",
              "          const docLinkHtml = 'Like what you see? Visit the ' +\n",
              "            '<a target=\"_blank\" href=https://colab.research.google.com/notebooks/data_table.ipynb>data table notebook</a>'\n",
              "            + ' to learn more about interactive tables.';\n",
              "          element.innerHTML = '';\n",
              "          dataTable['output_type'] = 'display_data';\n",
              "          await google.colab.output.renderOutput(dataTable, element);\n",
              "          const docLink = document.createElement('div');\n",
              "          docLink.innerHTML = docLinkHtml;\n",
              "          element.appendChild(docLink);\n",
              "        }\n",
              "      </script>\n",
              "    </div>\n",
              "  </div>\n",
              "  "
            ]
          },
          "metadata": {},
          "execution_count": 4
        }
      ],
      "source": [
        "data.head()"
      ]
    },
    {
      "cell_type": "code",
      "execution_count": null,
      "id": "49353d97",
      "metadata": {
        "id": "49353d97"
      },
      "outputs": [],
      "source": [
        "data_train = data.loc['2000':'2019', 'Adj Close'].to_numpy()\n",
        "data_test = data.loc['2020', 'Adj Close'].to_numpy()"
      ]
    },
    {
      "cell_type": "code",
      "execution_count": null,
      "id": "96841622",
      "metadata": {
        "colab": {
          "base_uri": "https://localhost:8080/"
        },
        "id": "96841622",
        "outputId": "e5b92169-415d-4610-b115-2af47f488950"
      },
      "outputs": [
        {
          "output_type": "execute_result",
          "data": {
            "text/plain": [
              "array([ 0.85813743,  0.78578764,  0.79728615, ..., 71.49375916,\n",
              "       71.91808319, 72.44355774])"
            ]
          },
          "metadata": {},
          "execution_count": 6
        }
      ],
      "source": [
        "data_train"
      ]
    },
    {
      "cell_type": "code",
      "execution_count": null,
      "id": "9f7b4674",
      "metadata": {
        "id": "9f7b4674"
      },
      "outputs": [],
      "source": [
        "scaler = MinMaxScaler()\n",
        "data_train = scaler.fit_transform(data_train.reshape(-1,1))\n",
        "data_test = scaler.transform(data_test.reshape(-1,1))"
      ]
    },
    {
      "cell_type": "code",
      "execution_count": null,
      "id": "734aa56e",
      "metadata": {
        "colab": {
          "base_uri": "https://localhost:8080/"
        },
        "id": "734aa56e",
        "outputId": "809d7d83-69cb-418e-f8c5-94965c00cd50"
      },
      "outputs": [
        {
          "output_type": "execute_result",
          "data": {
            "text/plain": [
              "array([[0.00909405],\n",
              "       [0.00809256],\n",
              "       [0.00825172],\n",
              "       ...,\n",
              "       [0.98685262],\n",
              "       [0.99272623],\n",
              "       [1.        ]])"
            ]
          },
          "metadata": {},
          "execution_count": 8
        }
      ],
      "source": [
        "data_train"
      ]
    },
    {
      "cell_type": "code",
      "execution_count": null,
      "id": "a5618852",
      "metadata": {
        "id": "a5618852"
      },
      "outputs": [],
      "source": [
        "def data_preparation(data):\n",
        "  x = []\n",
        "  y = []\n",
        "\n",
        "  for i in range(40, len(data)):\n",
        "    x.append(data[i-40:i, 0])\n",
        "    y.append(data[i])\n",
        "\n",
        "  x = np.array(x)\n",
        "  y = np.array(y)\n",
        "\n",
        "  x = x.reshape(x.shape[0], x.shape[1], 1)\n",
        "  return x, y"
      ]
    },
    {
      "cell_type": "code",
      "execution_count": null,
      "id": "35b64d05",
      "metadata": {
        "id": "35b64d05"
      },
      "outputs": [],
      "source": [
        "x_train, y_train = data_preparation(data_train)"
      ]
    },
    {
      "cell_type": "code",
      "execution_count": null,
      "id": "45ab98c5",
      "metadata": {
        "colab": {
          "base_uri": "https://localhost:8080/"
        },
        "id": "45ab98c5",
        "outputId": "47b25809-35c5-4fa9-ce13-a7f4d629b374"
      },
      "outputs": [
        {
          "output_type": "execute_result",
          "data": {
            "text/plain": [
              "((4991, 40, 1), (4991, 1))"
            ]
          },
          "metadata": {},
          "execution_count": 11
        }
      ],
      "source": [
        "x_train.shape, y_train.shape"
      ]
    },
    {
      "cell_type": "code",
      "execution_count": null,
      "id": "ab6c898d",
      "metadata": {
        "id": "ab6c898d"
      },
      "outputs": [],
      "source": [
        "x_test, y_test = data_preparation(data_test)"
      ]
    },
    {
      "cell_type": "code",
      "execution_count": null,
      "id": "dc01e6cf",
      "metadata": {
        "id": "dc01e6cf"
      },
      "outputs": [],
      "source": [
        "model = Sequential()\n",
        "model.add(LSTM(units=45, return_sequences=True, input_shape=(x_train.shape[1],1)))\n",
        "model.add(LSTM(units=45, return_sequences=True))\n",
        "model.add(LSTM(units=45))\n",
        "model.add(Dense(units=1))\n",
        "\n",
        "model.compile(optimizer='adam', loss='mean_squared_error', metrics=['accuracy'])\n"
      ]
    },
    {
      "cell_type": "code",
      "execution_count": null,
      "id": "ad492a17",
      "metadata": {
        "colab": {
          "base_uri": "https://localhost:8080/"
        },
        "id": "ad492a17",
        "outputId": "569cd7de-2e0d-4803-d9c0-4f003caad88a"
      },
      "outputs": [
        {
          "output_type": "stream",
          "name": "stdout",
          "text": [
            "Epoch 1/5\n",
            "156/156 [==============================] - 15s 58ms/step - loss: 0.0034 - accuracy: 4.0072e-04\n",
            "Epoch 2/5\n",
            "156/156 [==============================] - 9s 58ms/step - loss: 2.5554e-04 - accuracy: 4.0072e-04\n",
            "Epoch 3/5\n",
            "156/156 [==============================] - 9s 57ms/step - loss: 1.9015e-04 - accuracy: 4.0072e-04\n",
            "Epoch 4/5\n",
            "156/156 [==============================] - 9s 57ms/step - loss: 1.8781e-04 - accuracy: 4.0072e-04\n",
            "Epoch 5/5\n",
            "156/156 [==============================] - 9s 58ms/step - loss: 2.1805e-04 - accuracy: 4.0072e-04\n"
          ]
        },
        {
          "output_type": "execute_result",
          "data": {
            "text/plain": [
              "<keras.callbacks.History at 0x7f7427969df0>"
            ]
          },
          "metadata": {},
          "execution_count": 17
        }
      ],
      "source": [
        "model.fit(x_train, y_train, epochs=5, batch_size=32)"
      ]
    },
    {
      "cell_type": "code",
      "execution_count": null,
      "id": "c258ab6e",
      "metadata": {
        "colab": {
          "base_uri": "https://localhost:8080/"
        },
        "id": "c258ab6e",
        "outputId": "93e75edd-5926-48be-b246-46b96a225020"
      },
      "outputs": [
        {
          "output_type": "stream",
          "name": "stdout",
          "text": [
            "7/7 [==============================] - 1s 20ms/step\n"
          ]
        }
      ],
      "source": [
        "y_pred = model.predict(x_test)"
      ]
    },
    {
      "cell_type": "code",
      "execution_count": null,
      "id": "9d3fa5cc",
      "metadata": {
        "colab": {
          "base_uri": "https://localhost:8080/"
        },
        "id": "9d3fa5cc",
        "outputId": "3c12e224-7d26-442e-9889-c17b4752a94d"
      },
      "outputs": [
        {
          "output_type": "execute_result",
          "data": {
            "text/plain": [
              "(213, 1)"
            ]
          },
          "metadata": {},
          "execution_count": 19
        }
      ],
      "source": [
        "y_pred.shape"
      ]
    },
    {
      "cell_type": "code",
      "execution_count": null,
      "id": "fd0bcae1",
      "metadata": {
        "colab": {
          "base_uri": "https://localhost:8080/",
          "height": 282
        },
        "id": "fd0bcae1",
        "outputId": "2aaa9da2-9bca-4aa1-ab54-b364e100a57f"
      },
      "outputs": [
        {
          "output_type": "execute_result",
          "data": {
            "text/plain": [
              "[<matplotlib.lines.Line2D at 0x7f74254d5490>]"
            ]
          },
          "metadata": {},
          "execution_count": 20
        },
        {
          "output_type": "display_data",
          "data": {
            "text/plain": [
              "<Figure size 432x288 with 1 Axes>"
            ],
            "image/png": "[encoded data removed]"
          },
          "metadata": {
            "needs_background": "light"
          }
        }
      ],
      "source": [
        "fig, ax = plt.subplots()\n",
        "\n",
        "ax.plot(y_pred)\n",
        "ax.plot(y_test, c='r')"
      ]
    },
    {
      "cell_type": "code",
      "execution_count": null,
      "id": "0eed5e1b",
      "metadata": {
        "id": "0eed5e1b"
      },
      "outputs": [],
      "source": [
        "y_unscaled = scaler.inverse_transform(y_pred)"
      ]
    },
    {
      "cell_type": "code",
      "execution_count": null,
      "id": "8d5f8c02",
      "metadata": {
        "colab": {
          "base_uri": "https://localhost:8080/",
          "height": 286
        },
        "id": "8d5f8c02",
        "outputId": "ef32fd42-c93a-41cd-fd5c-83a1c6f13ece"
      },
      "outputs": [
        {
          "output_type": "execute_result",
          "data": {
            "text/plain": [
              "[<matplotlib.lines.Line2D at 0x7f7422ee95e0>]"
            ]
          },
          "metadata": {},
          "execution_count": 25
        },
        {
          "output_type": "display_data",
          "data": {
            "text/plain": [
              "<Figure size 432x288 with 1 Axes>"
            ],
            "image/png": "[encoded data removed]"
          },
          "metadata": {
            "needs_background": "light"
          }
        }
      ],
      "source": [
        "fig, ax = plt.subplots()\n",
        "y_real = data.loc['2020', 'Adj Close'].to_numpy()\n",
        "\n",
        "ax.plot(y_real[40:])\n",
        "ax.plot(y_unscaled)"
      ]
    },
    {
      "cell_type": "code",
      "execution_count": null,
      "id": "0274c06f",
      "metadata": {
        "id": "0274c06f"
      },
      "outputs": [],
      "source": []
    }
  ],
  "metadata": {
    "language_info": {
      "name": "python"
    },
    "colab": {
      "provenance": []
    },
    "kernelspec": {
      "name": "python3",
      "display_name": "Python 3"
    },
    "gpuClass": "standard"
  },
  "nbformat": 4,
  "nbformat_minor": 5
}