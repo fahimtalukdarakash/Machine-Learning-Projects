{
  "cells": [
    {
      "cell_type": "markdown",
      "id": "78f64881",
      "metadata": {
        "id": "78f64881"
      },
      "source": [
        "<a \n",
        " href=\"https://colab.research.google.com/github/LearnPythonWithRune/MachineLearningWithPython/blob/main/colab/final/08 - Project - Convolutional Neural Network (CNN).ipynb\"\n",
        " target=\"_parent\">\n",
        "<img \n",
        " src=\"https://colab.research.google.com/assets/colab-badge.svg\"\n",
        "alt=\"Open In Colab\"/>\n",
        "</a>"
      ]
    },
    {
      "cell_type": "markdown",
      "id": "4e33b771",
      "metadata": {
        "id": "4e33b771"
      },
      "source": [
        "# Project: Create a Convolutional Neural Network\n",
        "- We will create a model on the [CIFAR-10 dataset](https://www.cs.toronto.edu/%7Ekriz/cifar.html)"
      ]
    },
    {
      "cell_type": "markdown",
      "id": "b7fedd3b",
      "metadata": {
        "id": "b7fedd3b"
      },
      "source": [
        "### Step 1: Import libraries"
      ]
    },
    {
      "cell_type": "code",
      "execution_count": null,
      "id": "d3fee79d",
      "metadata": {
        "id": "d3fee79d"
      },
      "outputs": [],
      "source": [
        "import tensorflow as tf\n",
        "from tensorflow.keras import datasets, layers, models\n",
        "from tensorflow.keras.models import Sequential\n",
        "from tensorflow.keras.layers import Conv2D, MaxPooling2D, Flatten, Dense\n",
        "import matplotlib.pyplot as plt\n",
        "%matplotlib inline"
      ]
    },
    {
      "cell_type": "markdown",
      "id": "9c50bbdb",
      "metadata": {
        "id": "9c50bbdb"
      },
      "source": [
        "### Step 2: Download the CIFAR10 dataset\n",
        "- Excute the cell below"
      ]
    },
    {
      "cell_type": "code",
      "execution_count": null,
      "id": "12ba9d03",
      "metadata": {
        "colab": {
          "base_uri": "https://localhost:8080/"
        },
        "id": "12ba9d03",
        "outputId": "d93ca673-9ac4-4fc4-a293-ad63749b09bb"
      },
      "outputs": [
        {
          "output_type": "stream",
          "name": "stdout",
          "text": [
            "Downloading data from https://www.cs.toronto.edu/~kriz/cifar-10-python.tar.gz\n",
            "170498071/170498071 [==============================] - 2s 0us/step\n"
          ]
        }
      ],
      "source": [
        "(train_images, train_labels), (test_images, test_labels) = datasets.cifar10.load_data()"
      ]
    },
    {
      "cell_type": "markdown",
      "id": "30cf23b4",
      "metadata": {
        "id": "30cf23b4"
      },
      "source": [
        "### Step 3: Normalize the pixels\n",
        "- Divide the **train_images** and **test_images** with 255 to normalize them between 0 and 1."
      ]
    },
    {
      "cell_type": "code",
      "execution_count": null,
      "id": "7ae75cac",
      "metadata": {
        "id": "7ae75cac"
      },
      "outputs": [],
      "source": [
        "train_images = train_images / 255.0\n",
        "test_images = test_images/255.0"
      ]
    },
    {
      "cell_type": "code",
      "execution_count": null,
      "id": "d8910cbe",
      "metadata": {
        "id": "d8910cbe"
      },
      "outputs": [],
      "source": []
    },
    {
      "cell_type": "markdown",
      "id": "1888712c",
      "metadata": {
        "id": "1888712c"
      },
      "source": [
        "### Step 4: Get the class names of the labels\n",
        "- Make a class name conversion.\n",
        "    - HINT: make a list with the name **class_names = ['airplane', 'automobile', 'bird', 'cat', 'deer', 'dog', 'frog', 'horse', 'ship', 'truck']**\n",
        "- How to use the name conversion.\n",
        "    - **class_names[int(train_labels[index])]**\n",
        "- How to show an image\n",
        "    - **plt.imshow(train_images[index])**"
      ]
    },
    {
      "cell_type": "code",
      "execution_count": null,
      "id": "1fda0b89",
      "metadata": {
        "id": "1fda0b89"
      },
      "outputs": [],
      "source": [
        "class_names = ['airplane', 'automobile', 'bird', 'cat', 'deer', 'dog', 'frog', 'horse', 'ship', 'truck']"
      ]
    },
    {
      "cell_type": "code",
      "execution_count": null,
      "id": "c54fb0e9",
      "metadata": {
        "colab": {
          "base_uri": "https://localhost:8080/",
          "height": 284
        },
        "id": "c54fb0e9",
        "outputId": "71134473-b7b2-4822-f9f8-4af6f490b833"
      },
      "outputs": [
        {
          "output_type": "execute_result",
          "data": {
            "text/plain": [
              "'frog'"
            ],
            "application/vnd.google.colaboratory.intrinsic+json": {
              "type": "string"
            }
          },
          "metadata": {},
          "execution_count": 6
        },
        {
          "output_type": "display_data",
          "data": {
            "text/plain": [
              "<Figure size 432x288 with 1 Axes>"
            ],
            "image/png": "[encoded data removed]"
          },
          "metadata": {
            "needs_background": "light"
          }
        }
      ],
      "source": [
        "index = 0\n",
        "plt.imshow(train_images[index])\n",
        "class_names[int(train_labels[index])]"
      ]
    },
    {
      "cell_type": "markdown",
      "id": "1a1e2ad7",
      "metadata": {
        "id": "1a1e2ad7"
      },
      "source": [
        "### Step 5: Create a model\n",
        "- Create a **Sequential** model\n",
        "    - **Conv2D** with 32 and (3, 3),  **activation='relu', input_shape=(32, 32, 3)**\n",
        "    - **MaxPooling2D** with (2, 2)\n",
        "    - **Conv2D** with 64 and (3, 3),  **activation='relu'**\n",
        "    - **MaxPooling2D** with (2, 2)\n",
        "    - **Conv2D** with 64 and (3, 3),  **activation='relu'**\n",
        "    - **Flatten**\n",
        "    - **Dense** with 64 nodes with **input_dim=4, activaition='relu'**\n",
        "    - **Dense** with 10 (the output node)**\n",
        "- Complie the model with **optimizer='adam', loss=tf.keras.losses.SparseCategoricalCrossentropy(from_logits=True), metrics=['accuracy']**"
      ]
    },
    {
      "cell_type": "code",
      "execution_count": null,
      "id": "6f9cce23",
      "metadata": {
        "id": "6f9cce23"
      },
      "outputs": [],
      "source": [
        "model=models.Sequential()\n",
        "model.add(layers.Conv2D(32, (3, 3), activation='relu', input_shape=(32, 32, 3)))\n",
        "model.add(layers.MaxPooling2D(2,2))\n",
        "model.add(layers.Conv2D(64, (3, 3), activation='relu'))\n",
        "model.add(layers.MaxPooling2D(2,2))\n",
        "model.add(layers.Conv2D(64, (3, 3), activation='relu'))\n",
        "model.add(layers.Flatten())\n",
        "model.add(Dense(64, input_dim=4, activation='relu'))\n",
        "model.add(Dense(10))\n",
        "\n",
        "model.compile(optimizer='adam', loss=tf.keras.losses.SparseCategoricalCrossentropy(from_logits=True), metrics=['accuracy'])\n"
      ]
    },
    {
      "cell_type": "code",
      "execution_count": null,
      "id": "95f56a82",
      "metadata": {
        "id": "95f56a82"
      },
      "outputs": [],
      "source": []
    },
    {
      "cell_type": "markdown",
      "id": "c885d22d",
      "metadata": {
        "id": "c885d22d"
      },
      "source": [
        "### Step 6: Train the model\n",
        "- Fit the model with **train_images, train_labels, epochs=10** and **validation_data=(test_images, test_labels)**"
      ]
    },
    {
      "cell_type": "code",
      "execution_count": null,
      "id": "85e6f867",
      "metadata": {
        "colab": {
          "base_uri": "https://localhost:8080/"
        },
        "id": "85e6f867",
        "outputId": "acaeccc8-f10f-403f-f95a-68ee2d599d6f"
      },
      "outputs": [
        {
          "output_type": "stream",
          "name": "stdout",
          "text": [
            "Epoch 1/10\n",
            "1563/1563 [==============================] - 78s 49ms/step - loss: 1.5406 - accuracy: 0.4367 - val_loss: 1.2691 - val_accuracy: 0.5417\n",
            "Epoch 2/10\n",
            "1563/1563 [==============================] - 80s 51ms/step - loss: 1.1837 - accuracy: 0.5791 - val_loss: 1.1614 - val_accuracy: 0.5881\n",
            "Epoch 3/10\n",
            "1563/1563 [==============================] - 95s 61ms/step - loss: 1.0246 - accuracy: 0.6386 - val_loss: 1.0093 - val_accuracy: 0.6422\n",
            "Epoch 4/10\n",
            "1563/1563 [==============================] - 83s 53ms/step - loss: 0.9250 - accuracy: 0.6743 - val_loss: 0.9363 - val_accuracy: 0.6708\n",
            "Epoch 5/10\n",
            "1563/1563 [==============================] - 75s 48ms/step - loss: 0.8613 - accuracy: 0.6974 - val_loss: 0.8839 - val_accuracy: 0.6931\n",
            "Epoch 6/10\n",
            "1563/1563 [==============================] - 77s 49ms/step - loss: 0.8103 - accuracy: 0.7174 - val_loss: 0.8796 - val_accuracy: 0.6939\n",
            "Epoch 7/10\n",
            "1563/1563 [==============================] - 75s 48ms/step - loss: 0.7584 - accuracy: 0.7350 - val_loss: 0.8350 - val_accuracy: 0.7160\n",
            "Epoch 8/10\n",
            "1563/1563 [==============================] - 74s 47ms/step - loss: 0.7183 - accuracy: 0.7484 - val_loss: 0.8921 - val_accuracy: 0.6972\n",
            "Epoch 9/10\n",
            "1563/1563 [==============================] - 75s 48ms/step - loss: 0.6777 - accuracy: 0.7613 - val_loss: 0.8681 - val_accuracy: 0.7070\n",
            "Epoch 10/10\n",
            "1563/1563 [==============================] - 75s 48ms/step - loss: 0.6414 - accuracy: 0.7739 - val_loss: 0.8564 - val_accuracy: 0.7128\n"
          ]
        },
        {
          "output_type": "execute_result",
          "data": {
            "text/plain": [
              "<keras.callbacks.History at 0x7f6eb81b8550>"
            ]
          },
          "metadata": {},
          "execution_count": 8
        }
      ],
      "source": [
        "model.fit(train_images, train_labels, epochs=10, validation_data=(test_images, test_labels))"
      ]
    },
    {
      "cell_type": "code",
      "execution_count": null,
      "id": "fcb2b2c1",
      "metadata": {
        "id": "fcb2b2c1"
      },
      "outputs": [],
      "source": [
        " "
      ]
    },
    {
      "cell_type": "markdown",
      "id": "0c23d005",
      "metadata": {
        "id": "0c23d005"
      },
      "source": [
        "### Stpe 7: Test the model\n",
        "- Make predictions\n",
        "    - assign the predictions of test_images to a variable\n",
        "- How to test visually\n",
        "    - Assign **index=0**\n",
        "    - Plot the image with **plt.imshow(test_images[index])**\n",
        "    - See the label from prediction by mapping it from **class_names**"
      ]
    },
    {
      "cell_type": "code",
      "execution_count": null,
      "id": "55a69279",
      "metadata": {
        "colab": {
          "base_uri": "https://localhost:8080/"
        },
        "id": "55a69279",
        "outputId": "e348171d-2e74-4a7e-d5d6-a61cb9a71f86"
      },
      "outputs": [
        {
          "output_type": "stream",
          "name": "stdout",
          "text": [
            "313/313 [==============================] - 4s 14ms/step\n"
          ]
        }
      ],
      "source": [
        "y_pred = model.predict(test_images)"
      ]
    },
    {
      "cell_type": "code",
      "execution_count": null,
      "id": "e1fd751f",
      "metadata": {
        "colab": {
          "base_uri": "https://localhost:8080/",
          "height": 284
        },
        "id": "e1fd751f",
        "outputId": "cf0889bc-5ddd-4987-d167-4980f5928e10"
      },
      "outputs": [
        {
          "output_type": "execute_result",
          "data": {
            "text/plain": [
              "'airplane'"
            ],
            "application/vnd.google.colaboratory.intrinsic+json": {
              "type": "string"
            }
          },
          "metadata": {},
          "execution_count": 10
        },
        {
          "output_type": "display_data",
          "data": {
            "text/plain": [
              "<Figure size 432x288 with 1 Axes>"
            ],
            "image/png": "[encoded data removed]"
          },
          "metadata": {
            "needs_background": "light"
          }
        }
      ],
      "source": [
        "index = 3\n",
        "plt.imshow(test_images[index])\n",
        "class_names[y_pred[index].argmax()]"
      ]
    },
    {
      "cell_type": "code",
      "execution_count": null,
      "id": "74a652b0",
      "metadata": {
        "colab": {
          "base_uri": "https://localhost:8080/"
        },
        "id": "74a652b0",
        "outputId": "705aa420-d07e-492d-99df-c970816b30ae"
      },
      "outputs": [
        {
          "output_type": "execute_result",
          "data": {
            "text/plain": [
              "[0.8563992977142334, 0.7128000259399414]"
            ]
          },
          "metadata": {},
          "execution_count": 11
        }
      ],
      "source": [
        "model.evaluate(test_images, test_labels, verbose=0)"
      ]
    },
    {
      "cell_type": "markdown",
      "id": "52205de0",
      "metadata": {
        "id": "52205de0"
      },
      "source": [
        "### Step 8 (Optional): Improve the model\n",
        "- Try to play around with the model to improve the score"
      ]
    },
    {
      "cell_type": "code",
      "execution_count": null,
      "id": "57a6fd02",
      "metadata": {
        "id": "57a6fd02"
      },
      "outputs": [],
      "source": []
    },
    {
      "cell_type": "code",
      "execution_count": null,
      "id": "4b272f6f",
      "metadata": {
        "id": "4b272f6f",
        "outputId": "6fcf1044-bb15-4ae1-f1ad-fd6bad284cef"
      },
      "outputs": [
        {
          "name": "stdout",
          "output_type": "stream",
          "text": [
            "Epoch 1/10\n",
            "1563/1563 [==============================] - 106s 67ms/step - loss: 1.5020 - accuracy: 0.4542 - val_loss: 1.2403 - val_accuracy: 0.5567\n",
            "Epoch 2/10\n",
            "1563/1563 [==============================] - 113s 72ms/step - loss: 1.1398 - accuracy: 0.5964 - val_loss: 1.0376 - val_accuracy: 0.6333\n",
            "Epoch 3/10\n",
            "1563/1563 [==============================] - 112s 72ms/step - loss: 0.9770 - accuracy: 0.6574 - val_loss: 0.9690 - val_accuracy: 0.6589\n",
            "Epoch 4/10\n",
            "1563/1563 [==============================] - 115s 74ms/step - loss: 0.8774 - accuracy: 0.6936 - val_loss: 0.9270 - val_accuracy: 0.6773\n",
            "Epoch 5/10\n",
            "1563/1563 [==============================] - 125s 80ms/step - loss: 0.7963 - accuracy: 0.7198 - val_loss: 0.8862 - val_accuracy: 0.6872\n",
            "Epoch 6/10\n",
            "1563/1563 [==============================] - 122s 78ms/step - loss: 0.7329 - accuracy: 0.7423 - val_loss: 0.8750 - val_accuracy: 0.6984\n",
            "Epoch 7/10\n",
            "1563/1563 [==============================] - 124s 79ms/step - loss: 0.6814 - accuracy: 0.7614 - val_loss: 0.8622 - val_accuracy: 0.7119\n",
            "Epoch 8/10\n",
            "1563/1563 [==============================] - 124s 79ms/step - loss: 0.6261 - accuracy: 0.7795 - val_loss: 0.9153 - val_accuracy: 0.6971\n",
            "Epoch 9/10\n",
            "1563/1563 [==============================] - 124s 79ms/step - loss: 0.5875 - accuracy: 0.7928 - val_loss: 0.9055 - val_accuracy: 0.6987\n",
            "Epoch 10/10\n",
            "1563/1563 [==============================] - 128s 82ms/step - loss: 0.5452 - accuracy: 0.8069 - val_loss: 0.8520 - val_accuracy: 0.7255\n"
          ]
        },
        {
          "data": {
            "text/plain": [
              "<keras.callbacks.History at 0x7fd156f72820>"
            ]
          },
          "execution_count": 12,
          "metadata": {},
          "output_type": "execute_result"
        }
      ],
      "source": []
    },
    {
      "cell_type": "code",
      "execution_count": null,
      "id": "d75add01",
      "metadata": {
        "id": "d75add01"
      },
      "outputs": [],
      "source": []
    },
    {
      "cell_type": "code",
      "execution_count": null,
      "id": "15f4293e",
      "metadata": {
        "id": "15f4293e",
        "outputId": "0845357b-396c-4121-8a13-477178829674"
      },
      "outputs": [
        {
          "data": {
            "text/plain": [
              "'frog'"
            ]
          },
          "execution_count": 14,
          "metadata": {},
          "output_type": "execute_result"
        },
        {
          "data": {
            "image/png": "[encoded data removed]",
            "text/plain": [
              "<Figure size 432x288 with 1 Axes>"
            ]
          },
          "metadata": {
            "needs_background": "light"
          },
          "output_type": "display_data"
        }
      ],
      "source": []
    },
    {
      "cell_type": "code",
      "execution_count": null,
      "id": "2f8ef5c6",
      "metadata": {
        "id": "2f8ef5c6",
        "outputId": "9fcb29ac-2624-45cc-e6ea-d0612725f872"
      },
      "outputs": [
        {
          "data": {
            "text/plain": [
              "[0.852048933506012, 0.7254999876022339]"
            ]
          },
          "execution_count": 15,
          "metadata": {},
          "output_type": "execute_result"
        }
      ],
      "source": []
    }
  ],
  "metadata": {
    "language_info": {
      "name": "python"
    },
    "colab": {
      "provenance": []
    },
    "kernelspec": {
      "name": "python3",
      "display_name": "Python 3"
    },
    "gpuClass": "standard"
  },
  "nbformat": 4,
  "nbformat_minor": 5
}