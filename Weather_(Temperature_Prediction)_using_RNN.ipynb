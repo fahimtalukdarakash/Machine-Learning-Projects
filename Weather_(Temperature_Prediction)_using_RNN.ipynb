{
  "cells": [
    {
      "cell_type": "markdown",
      "id": "cebd1590",
      "metadata": {
        "id": "cebd1590"
      },
      "source": [
        "<a \n",
        " href=\"https://colab.research.google.com/github/LearnPythonWithRune/MachineLearningWithPython/blob/main/colab/final/10 - Project - Recurrent Neural Network.ipynb\"\n",
        " target=\"_parent\">\n",
        "<img \n",
        " src=\"https://colab.research.google.com/assets/colab-badge.svg\"\n",
        "alt=\"Open In Colab\"/>\n",
        "</a>"
      ]
    },
    {
      "cell_type": "markdown",
      "id": "4dd71211",
      "metadata": {
        "id": "4dd71211"
      },
      "source": [
        "# Project: Reucurrent Neural Network\n",
        "- A project on weather predictin on time series data"
      ]
    },
    {
      "cell_type": "markdown",
      "id": "993f8640",
      "metadata": {
        "id": "993f8640"
      },
      "source": [
        "### Step 1: Import libraries"
      ]
    },
    {
      "cell_type": "code",
      "execution_count": null,
      "id": "51e82d57",
      "metadata": {
        "id": "51e82d57"
      },
      "outputs": [],
      "source": [
        "import tensorflow as tf\n",
        "import os\n",
        "import pandas as pd\n",
        "import numpy as np\n",
        "from tensorflow.keras import layers, models\n",
        "import matplotlib.pyplot as plt\n",
        "%matplotlib inline"
      ]
    },
    {
      "cell_type": "markdown",
      "id": "8a82eb96",
      "metadata": {
        "id": "8a82eb96"
      },
      "source": [
        "### Step 2: Download dataset\n",
        "- Excute the cell below"
      ]
    },
    {
      "cell_type": "code",
      "execution_count": null,
      "id": "0268dfd5",
      "metadata": {
        "colab": {
          "base_uri": "https://localhost:8080/"
        },
        "id": "0268dfd5",
        "outputId": "77f06f8c-a364-4e98-f079-7d14de750ee4"
      },
      "outputs": [
        {
          "output_type": "stream",
          "name": "stdout",
          "text": [
            "Downloading data from https://storage.googleapis.com/tensorflow/tf-keras-datasets/jena_climate_2009_2016.csv.zip\n",
            "13568290/13568290 [==============================] - 0s 0us/step\n"
          ]
        }
      ],
      "source": [
        "zip_path = tf.keras.utils.get_file(\n",
        "    origin='https://storage.googleapis.com/tensorflow/tf-keras-datasets/jena_climate_2009_2016.csv.zip',\n",
        "    fname='jena_climate_2009_2016.csv.zip',\n",
        "    extract=True)\n",
        "csv_path, _ = os.path.splitext(zip_path)"
      ]
    },
    {
      "cell_type": "markdown",
      "id": "d6d7af6b",
      "metadata": {
        "id": "d6d7af6b"
      },
      "source": [
        "### Step 3: Read the data\n",
        "- Use Pandas [read_csv](https://pandas.pydata.org/pandas-docs/stable/reference/api/pandas.read_csv.html) method to read **csv_path** (from step 2).\n",
        "    - Also **parse_dates=True** and **index_col=0**"
      ]
    },
    {
      "cell_type": "code",
      "execution_count": null,
      "id": "0a1832fe",
      "metadata": {
        "colab": {
          "base_uri": "https://localhost:8080/",
          "height": 527
        },
        "id": "0a1832fe",
        "outputId": "7539bc7c-1bb3-4577-e1cb-766c1bd50bd6"
      },
      "outputs": [
        {
          "output_type": "execute_result",
          "data": {
            "text/plain": [
              "                     p (mbar)  T (degC)  Tpot (K)  Tdew (degC)  rh (%)  \\\n",
              "Date Time                                                                \n",
              "2009-01-01 00:10:00    996.52     -8.02    265.40        -8.90    93.3   \n",
              "2009-01-01 00:20:00    996.57     -8.41    265.01        -9.28    93.4   \n",
              "2009-01-01 00:30:00    996.53     -8.51    264.91        -9.31    93.9   \n",
              "2009-01-01 00:40:00    996.51     -8.31    265.12        -9.07    94.2   \n",
              "2009-01-01 00:50:00    996.51     -8.27    265.15        -9.04    94.1   \n",
              "\n",
              "                     VPmax (mbar)  VPact (mbar)  VPdef (mbar)  sh (g/kg)  \\\n",
              "Date Time                                                                  \n",
              "2009-01-01 00:10:00          3.33          3.11          0.22       1.94   \n",
              "2009-01-01 00:20:00          3.23          3.02          0.21       1.89   \n",
              "2009-01-01 00:30:00          3.21          3.01          0.20       1.88   \n",
              "2009-01-01 00:40:00          3.26          3.07          0.19       1.92   \n",
              "2009-01-01 00:50:00          3.27          3.08          0.19       1.92   \n",
              "\n",
              "                     H2OC (mmol/mol)  rho (g/m**3)  wv (m/s)  max. wv (m/s)  \\\n",
              "Date Time                                                                     \n",
              "2009-01-01 00:10:00             3.12       1307.75      1.03           1.75   \n",
              "2009-01-01 00:20:00             3.03       1309.80      0.72           1.50   \n",
              "2009-01-01 00:30:00             3.02       1310.24      0.19           0.63   \n",
              "2009-01-01 00:40:00             3.08       1309.19      0.34           0.50   \n",
              "2009-01-01 00:50:00             3.09       1309.00      0.32           0.63   \n",
              "\n",
              "                     wd (deg)  \n",
              "Date Time                      \n",
              "2009-01-01 00:10:00     152.3  \n",
              "2009-01-01 00:20:00     136.1  \n",
              "2009-01-01 00:30:00     171.6  \n",
              "2009-01-01 00:40:00     198.0  \n",
              "2009-01-01 00:50:00     214.3  "
            ],
            "text/html": [
              "\n",
              "  <div id=\"df-cf86d456-2353-40b3-b702-2516ab570e3c\">\n",
              "    <div class=\"colab-df-container\">\n",
              "      <div>\n",
              "<style scoped>\n",
              "    .dataframe tbody tr th:only-of-type {\n",
              "        vertical-align: middle;\n",
              "    }\n",
              "\n",
              "    .dataframe tbody tr th {\n",
              "        vertical-align: top;\n",
              "    }\n",
              "\n",
              "    .dataframe thead th {\n",
              "        text-align: right;\n",
              "    }\n",
              "</style>\n",
              "<table border=\"1\" class=\"dataframe\">\n",
              "  <thead>\n",
              "    <tr style=\"text-align: right;\">\n",
              "      <th></th>\n",
              "      <th>p (mbar)</th>\n",
              "      <th>T (degC)</th>\n",
              "      <th>Tpot (K)</th>\n",
              "      <th>Tdew (degC)</th>\n",
              "      <th>rh (%)</th>\n",
              "      <th>VPmax (mbar)</th>\n",
              "      <th>VPact (mbar)</th>\n",
              "      <th>VPdef (mbar)</th>\n",
              "      <th>sh (g/kg)</th>\n",
              "      <th>H2OC (mmol/mol)</th>\n",
              "      <th>rho (g/m**3)</th>\n",
              "      <th>wv (m/s)</th>\n",
              "      <th>max. wv (m/s)</th>\n",
              "      <th>wd (deg)</th>\n",
              "    </tr>\n",
              "    <tr>\n",
              "      <th>Date Time</th>\n",
              "      <th></th>\n",
              "      <th></th>\n",
              "      <th></th>\n",
              "      <th></th>\n",
              "      <th></th>\n",
              "      <th></th>\n",
              "      <th></th>\n",
              "      <th></th>\n",
              "      <th></th>\n",
              "      <th></th>\n",
              "      <th></th>\n",
              "      <th></th>\n",
              "      <th></th>\n",
              "      <th></th>\n",
              "    </tr>\n",
              "  </thead>\n",
              "  <tbody>\n",
              "    <tr>\n",
              "      <th>2009-01-01 00:10:00</th>\n",
              "      <td>996.52</td>\n",
              "      <td>-8.02</td>\n",
              "      <td>265.40</td>\n",
              "      <td>-8.90</td>\n",
              "      <td>93.3</td>\n",
              "      <td>3.33</td>\n",
              "      <td>3.11</td>\n",
              "      <td>0.22</td>\n",
              "      <td>1.94</td>\n",
              "      <td>3.12</td>\n",
              "      <td>1307.75</td>\n",
              "      <td>1.03</td>\n",
              "      <td>1.75</td>\n",
              "      <td>152.3</td>\n",
              "    </tr>\n",
              "    <tr>\n",
              "      <th>2009-01-01 00:20:00</th>\n",
              "      <td>996.57</td>\n",
              "      <td>-8.41</td>\n",
              "      <td>265.01</td>\n",
              "      <td>-9.28</td>\n",
              "      <td>93.4</td>\n",
              "      <td>3.23</td>\n",
              "      <td>3.02</td>\n",
              "      <td>0.21</td>\n",
              "      <td>1.89</td>\n",
              "      <td>3.03</td>\n",
              "      <td>1309.80</td>\n",
              "      <td>0.72</td>\n",
              "      <td>1.50</td>\n",
              "      <td>136.1</td>\n",
              "    </tr>\n",
              "    <tr>\n",
              "      <th>2009-01-01 00:30:00</th>\n",
              "      <td>996.53</td>\n",
              "      <td>-8.51</td>\n",
              "      <td>264.91</td>\n",
              "      <td>-9.31</td>\n",
              "      <td>93.9</td>\n",
              "      <td>3.21</td>\n",
              "      <td>3.01</td>\n",
              "      <td>0.20</td>\n",
              "      <td>1.88</td>\n",
              "      <td>3.02</td>\n",
              "      <td>1310.24</td>\n",
              "      <td>0.19</td>\n",
              "      <td>0.63</td>\n",
              "      <td>171.6</td>\n",
              "    </tr>\n",
              "    <tr>\n",
              "      <th>2009-01-01 00:40:00</th>\n",
              "      <td>996.51</td>\n",
              "      <td>-8.31</td>\n",
              "      <td>265.12</td>\n",
              "      <td>-9.07</td>\n",
              "      <td>94.2</td>\n",
              "      <td>3.26</td>\n",
              "      <td>3.07</td>\n",
              "      <td>0.19</td>\n",
              "      <td>1.92</td>\n",
              "      <td>3.08</td>\n",
              "      <td>1309.19</td>\n",
              "      <td>0.34</td>\n",
              "      <td>0.50</td>\n",
              "      <td>198.0</td>\n",
              "    </tr>\n",
              "    <tr>\n",
              "      <th>2009-01-01 00:50:00</th>\n",
              "      <td>996.51</td>\n",
              "      <td>-8.27</td>\n",
              "      <td>265.15</td>\n",
              "      <td>-9.04</td>\n",
              "      <td>94.1</td>\n",
              "      <td>3.27</td>\n",
              "      <td>3.08</td>\n",
              "      <td>0.19</td>\n",
              "      <td>1.92</td>\n",
              "      <td>3.09</td>\n",
              "      <td>1309.00</td>\n",
              "      <td>0.32</td>\n",
              "      <td>0.63</td>\n",
              "      <td>214.3</td>\n",
              "    </tr>\n",
              "  </tbody>\n",
              "</table>\n",
              "</div>\n",
              "      <button class=\"colab-df-convert\" onclick=\"convertToInteractive('df-cf86d456-2353-40b3-b702-2516ab570e3c')\"\n",
              "              title=\"Convert this dataframe to an interactive table.\"\n",
              "              style=\"display:none;\">\n",
              "        \n",
              "  <svg xmlns=\"http://www.w3.org/2000/svg\" height=\"24px\"viewBox=\"0 0 24 24\"\n",
              "       width=\"24px\">\n",
              "    <path d=\"M0 0h24v24H0V0z\" fill=\"none\"/>\n",
              "    <path d=\"M18.56 5.44l.94 2.06.94-2.06 2.06-.94-2.06-.94-.94-2.06-.94 2.06-2.06.94zm-11 1L8.5 8.5l.94-2.06 2.06-.94-2.06-.94L8.5 2.5l-.94 2.06-2.06.94zm10 10l.94 2.06.94-2.06 2.06-.94-2.06-.94-.94-2.06-.94 2.06-2.06.94z\"/><path d=\"M17.41 7.96l-1.37-1.37c-.4-.4-.92-.59-1.43-.59-.52 0-1.04.2-1.43.59L10.3 9.45l-7.72 7.72c-.78.78-.78 2.05 0 2.83L4 21.41c.39.39.9.59 1.41.59.51 0 1.02-.2 1.41-.59l7.78-7.78 2.81-2.81c.8-.78.8-2.07 0-2.86zM5.41 20L4 18.59l7.72-7.72 1.47 1.35L5.41 20z\"/>\n",
              "  </svg>\n",
              "      </button>\n",
              "      \n",
              "  <style>\n",
              "    .colab-df-container {\n",
              "      display:flex;\n",
              "      flex-wrap:wrap;\n",
              "      gap: 12px;\n",
              "    }\n",
              "\n",
              "    .colab-df-convert {\n",
              "      background-color: #E8F0FE;\n",
              "      border: none;\n",
              "      border-radius: 50%;\n",
              "      cursor: pointer;\n",
              "      display: none;\n",
              "      fill: #1967D2;\n",
              "      height: 32px;\n",
              "      padding: 0 0 0 0;\n",
              "      width: 32px;\n",
              "    }\n",
              "\n",
              "    .colab-df-convert:hover {\n",
              "      background-color: #E2EBFA;\n",
              "      box-shadow: 0px 1px 2px rgba(60, 64, 67, 0.3), 0px 1px 3px 1px rgba(60, 64, 67, 0.15);\n",
              "      fill: #174EA6;\n",
              "    }\n",
              "\n",
              "    [theme=dark] .colab-df-convert {\n",
              "      background-color: #3B4455;\n",
              "      fill: #D2E3FC;\n",
              "    }\n",
              "\n",
              "    [theme=dark] .colab-df-convert:hover {\n",
              "      background-color: #434B5C;\n",
              "      box-shadow: 0px 1px 3px 1px rgba(0, 0, 0, 0.15);\n",
              "      filter: drop-shadow(0px 1px 2px rgba(0, 0, 0, 0.3));\n",
              "      fill: #FFFFFF;\n",
              "    }\n",
              "  </style>\n",
              "\n",
              "      <script>\n",
              "        const buttonEl =\n",
              "          document.querySelector('#df-cf86d456-2353-40b3-b702-2516ab570e3c button.colab-df-convert');\n",
              "        buttonEl.style.display =\n",
              "          google.colab.kernel.accessAllowed ? 'block' : 'none';\n",
              "\n",
              "        async function convertToInteractive(key) {\n",
              "          const element = document.querySelector('#df-cf86d456-2353-40b3-b702-2516ab570e3c');\n",
              "          const dataTable =\n",
              "            await google.colab.kernel.invokeFunction('convertToInteractive',\n",
              "                                                     [key], {});\n",
              "          if (!dataTable) return;\n",
              "\n",
              "          const docLinkHtml = 'Like what you see? Visit the ' +\n",
              "            '<a target=\"_blank\" href=https://colab.research.google.com/notebooks/data_table.ipynb>data table notebook</a>'\n",
              "            + ' to learn more about interactive tables.';\n",
              "          element.innerHTML = '';\n",
              "          dataTable['output_type'] = 'display_data';\n",
              "          await google.colab.output.renderOutput(dataTable, element);\n",
              "          const docLink = document.createElement('div');\n",
              "          docLink.innerHTML = docLinkHtml;\n",
              "          element.appendChild(docLink);\n",
              "        }\n",
              "      </script>\n",
              "    </div>\n",
              "  </div>\n",
              "  "
            ]
          },
          "metadata": {},
          "execution_count": 3
        }
      ],
      "source": [
        "data = pd.read_csv(csv_path, parse_dates=True, index_col=0)\n",
        "data.head()"
      ]
    },
    {
      "cell_type": "code",
      "execution_count": null,
      "id": "3669fef3",
      "metadata": {
        "colab": {
          "base_uri": "https://localhost:8080/"
        },
        "id": "3669fef3",
        "outputId": "aa455db6-6a59-4e6c-9588-0b5161201c07"
      },
      "outputs": [
        {
          "output_type": "execute_result",
          "data": {
            "text/plain": [
              "420551"
            ]
          },
          "metadata": {},
          "execution_count": 4
        }
      ],
      "source": [
        "len(data)"
      ]
    },
    {
      "cell_type": "markdown",
      "id": "6f83d741",
      "metadata": {
        "id": "6f83d741"
      },
      "source": [
        "### Step 4: Limit dataset\n",
        "- The dataset has metrics for every 10 minutes - we will limit it to only once per hour\n",
        "    - HINT: **data[5::6]** will start at 5 and step 6.\n",
        "        - **a[start:stop:step]** start through not past stop, by step"
      ]
    },
    {
      "cell_type": "code",
      "execution_count": null,
      "id": "a5ec255a",
      "metadata": {
        "id": "a5ec255a"
      },
      "outputs": [],
      "source": [
        "data = data[5::6]"
      ]
    },
    {
      "cell_type": "code",
      "execution_count": null,
      "id": "a232c73f",
      "metadata": {
        "colab": {
          "base_uri": "https://localhost:8080/"
        },
        "id": "a232c73f",
        "outputId": "8738fccc-e89c-4279-c275-92863e54cc83"
      },
      "outputs": [
        {
          "output_type": "execute_result",
          "data": {
            "text/plain": [
              "70091"
            ]
          },
          "metadata": {},
          "execution_count": 6
        }
      ],
      "source": [
        "len(data)"
      ]
    },
    {
      "cell_type": "code",
      "execution_count": null,
      "id": "fd86c994",
      "metadata": {
        "colab": {
          "base_uri": "https://localhost:8080/",
          "height": 527
        },
        "id": "fd86c994",
        "outputId": "d3624de4-873f-4764-cdf6-36fdded048a8"
      },
      "outputs": [
        {
          "output_type": "execute_result",
          "data": {
            "text/plain": [
              "                     p (mbar)  T (degC)  Tpot (K)  Tdew (degC)  rh (%)  \\\n",
              "Date Time                                                                \n",
              "2009-01-01 01:00:00    996.50     -8.05    265.38        -8.78    94.4   \n",
              "2009-01-01 02:00:00    996.62     -8.88    264.54        -9.77    93.2   \n",
              "2009-01-01 03:00:00    996.84     -8.81    264.59        -9.66    93.5   \n",
              "2009-01-01 04:00:00    996.99     -9.05    264.34       -10.02    92.6   \n",
              "2009-01-01 05:00:00    997.46     -9.63    263.72       -10.65    92.2   \n",
              "\n",
              "                     VPmax (mbar)  VPact (mbar)  VPdef (mbar)  sh (g/kg)  \\\n",
              "Date Time                                                                  \n",
              "2009-01-01 01:00:00          3.33          3.14          0.19       1.96   \n",
              "2009-01-01 02:00:00          3.12          2.90          0.21       1.81   \n",
              "2009-01-01 03:00:00          3.13          2.93          0.20       1.83   \n",
              "2009-01-01 04:00:00          3.07          2.85          0.23       1.78   \n",
              "2009-01-01 05:00:00          2.94          2.71          0.23       1.69   \n",
              "\n",
              "                     H2OC (mmol/mol)  rho (g/m**3)  wv (m/s)  max. wv (m/s)  \\\n",
              "Date Time                                                                     \n",
              "2009-01-01 01:00:00             3.15       1307.86      0.21           0.63   \n",
              "2009-01-01 02:00:00             2.91       1312.25      0.25           0.63   \n",
              "2009-01-01 03:00:00             2.94       1312.18      0.18           0.63   \n",
              "2009-01-01 04:00:00             2.85       1313.61      0.10           0.38   \n",
              "2009-01-01 05:00:00             2.71       1317.19      0.40           0.88   \n",
              "\n",
              "                     wd (deg)  \n",
              "Date Time                      \n",
              "2009-01-01 01:00:00     192.7  \n",
              "2009-01-01 02:00:00     190.3  \n",
              "2009-01-01 03:00:00     167.2  \n",
              "2009-01-01 04:00:00     240.0  \n",
              "2009-01-01 05:00:00     157.0  "
            ],
            "text/html": [
              "\n",
              "  <div id=\"df-3ffecc34-6e60-40aa-83a7-f2b3866c86fe\">\n",
              "    <div class=\"colab-df-container\">\n",
              "      <div>\n",
              "<style scoped>\n",
              "    .dataframe tbody tr th:only-of-type {\n",
              "        vertical-align: middle;\n",
              "    }\n",
              "\n",
              "    .dataframe tbody tr th {\n",
              "        vertical-align: top;\n",
              "    }\n",
              "\n",
              "    .dataframe thead th {\n",
              "        text-align: right;\n",
              "    }\n",
              "</style>\n",
              "<table border=\"1\" class=\"dataframe\">\n",
              "  <thead>\n",
              "    <tr style=\"text-align: right;\">\n",
              "      <th></th>\n",
              "      <th>p (mbar)</th>\n",
              "      <th>T (degC)</th>\n",
              "      <th>Tpot (K)</th>\n",
              "      <th>Tdew (degC)</th>\n",
              "      <th>rh (%)</th>\n",
              "      <th>VPmax (mbar)</th>\n",
              "      <th>VPact (mbar)</th>\n",
              "      <th>VPdef (mbar)</th>\n",
              "      <th>sh (g/kg)</th>\n",
              "      <th>H2OC (mmol/mol)</th>\n",
              "      <th>rho (g/m**3)</th>\n",
              "      <th>wv (m/s)</th>\n",
              "      <th>max. wv (m/s)</th>\n",
              "      <th>wd (deg)</th>\n",
              "    </tr>\n",
              "    <tr>\n",
              "      <th>Date Time</th>\n",
              "      <th></th>\n",
              "      <th></th>\n",
              "      <th></th>\n",
              "      <th></th>\n",
              "      <th></th>\n",
              "      <th></th>\n",
              "      <th></th>\n",
              "      <th></th>\n",
              "      <th></th>\n",
              "      <th></th>\n",
              "      <th></th>\n",
              "      <th></th>\n",
              "      <th></th>\n",
              "      <th></th>\n",
              "    </tr>\n",
              "  </thead>\n",
              "  <tbody>\n",
              "    <tr>\n",
              "      <th>2009-01-01 01:00:00</th>\n",
              "      <td>996.50</td>\n",
              "      <td>-8.05</td>\n",
              "      <td>265.38</td>\n",
              "      <td>-8.78</td>\n",
              "      <td>94.4</td>\n",
              "      <td>3.33</td>\n",
              "      <td>3.14</td>\n",
              "      <td>0.19</td>\n",
              "      <td>1.96</td>\n",
              "      <td>3.15</td>\n",
              "      <td>1307.86</td>\n",
              "      <td>0.21</td>\n",
              "      <td>0.63</td>\n",
              "      <td>192.7</td>\n",
              "    </tr>\n",
              "    <tr>\n",
              "      <th>2009-01-01 02:00:00</th>\n",
              "      <td>996.62</td>\n",
              "      <td>-8.88</td>\n",
              "      <td>264.54</td>\n",
              "      <td>-9.77</td>\n",
              "      <td>93.2</td>\n",
              "      <td>3.12</td>\n",
              "      <td>2.90</td>\n",
              "      <td>0.21</td>\n",
              "      <td>1.81</td>\n",
              "      <td>2.91</td>\n",
              "      <td>1312.25</td>\n",
              "      <td>0.25</td>\n",
              "      <td>0.63</td>\n",
              "      <td>190.3</td>\n",
              "    </tr>\n",
              "    <tr>\n",
              "      <th>2009-01-01 03:00:00</th>\n",
              "      <td>996.84</td>\n",
              "      <td>-8.81</td>\n",
              "      <td>264.59</td>\n",
              "      <td>-9.66</td>\n",
              "      <td>93.5</td>\n",
              "      <td>3.13</td>\n",
              "      <td>2.93</td>\n",
              "      <td>0.20</td>\n",
              "      <td>1.83</td>\n",
              "      <td>2.94</td>\n",
              "      <td>1312.18</td>\n",
              "      <td>0.18</td>\n",
              "      <td>0.63</td>\n",
              "      <td>167.2</td>\n",
              "    </tr>\n",
              "    <tr>\n",
              "      <th>2009-01-01 04:00:00</th>\n",
              "      <td>996.99</td>\n",
              "      <td>-9.05</td>\n",
              "      <td>264.34</td>\n",
              "      <td>-10.02</td>\n",
              "      <td>92.6</td>\n",
              "      <td>3.07</td>\n",
              "      <td>2.85</td>\n",
              "      <td>0.23</td>\n",
              "      <td>1.78</td>\n",
              "      <td>2.85</td>\n",
              "      <td>1313.61</td>\n",
              "      <td>0.10</td>\n",
              "      <td>0.38</td>\n",
              "      <td>240.0</td>\n",
              "    </tr>\n",
              "    <tr>\n",
              "      <th>2009-01-01 05:00:00</th>\n",
              "      <td>997.46</td>\n",
              "      <td>-9.63</td>\n",
              "      <td>263.72</td>\n",
              "      <td>-10.65</td>\n",
              "      <td>92.2</td>\n",
              "      <td>2.94</td>\n",
              "      <td>2.71</td>\n",
              "      <td>0.23</td>\n",
              "      <td>1.69</td>\n",
              "      <td>2.71</td>\n",
              "      <td>1317.19</td>\n",
              "      <td>0.40</td>\n",
              "      <td>0.88</td>\n",
              "      <td>157.0</td>\n",
              "    </tr>\n",
              "  </tbody>\n",
              "</table>\n",
              "</div>\n",
              "      <button class=\"colab-df-convert\" onclick=\"convertToInteractive('df-3ffecc34-6e60-40aa-83a7-f2b3866c86fe')\"\n",
              "              title=\"Convert this dataframe to an interactive table.\"\n",
              "              style=\"display:none;\">\n",
              "        \n",
              "  <svg xmlns=\"http://www.w3.org/2000/svg\" height=\"24px\"viewBox=\"0 0 24 24\"\n",
              "       width=\"24px\">\n",
              "    <path d=\"M0 0h24v24H0V0z\" fill=\"none\"/>\n",
              "    <path d=\"M18.56 5.44l.94 2.06.94-2.06 2.06-.94-2.06-.94-.94-2.06-.94 2.06-2.06.94zm-11 1L8.5 8.5l.94-2.06 2.06-.94-2.06-.94L8.5 2.5l-.94 2.06-2.06.94zm10 10l.94 2.06.94-2.06 2.06-.94-2.06-.94-.94-2.06-.94 2.06-2.06.94z\"/><path d=\"M17.41 7.96l-1.37-1.37c-.4-.4-.92-.59-1.43-.59-.52 0-1.04.2-1.43.59L10.3 9.45l-7.72 7.72c-.78.78-.78 2.05 0 2.83L4 21.41c.39.39.9.59 1.41.59.51 0 1.02-.2 1.41-.59l7.78-7.78 2.81-2.81c.8-.78.8-2.07 0-2.86zM5.41 20L4 18.59l7.72-7.72 1.47 1.35L5.41 20z\"/>\n",
              "  </svg>\n",
              "      </button>\n",
              "      \n",
              "  <style>\n",
              "    .colab-df-container {\n",
              "      display:flex;\n",
              "      flex-wrap:wrap;\n",
              "      gap: 12px;\n",
              "    }\n",
              "\n",
              "    .colab-df-convert {\n",
              "      background-color: #E8F0FE;\n",
              "      border: none;\n",
              "      border-radius: 50%;\n",
              "      cursor: pointer;\n",
              "      display: none;\n",
              "      fill: #1967D2;\n",
              "      height: 32px;\n",
              "      padding: 0 0 0 0;\n",
              "      width: 32px;\n",
              "    }\n",
              "\n",
              "    .colab-df-convert:hover {\n",
              "      background-color: #E2EBFA;\n",
              "      box-shadow: 0px 1px 2px rgba(60, 64, 67, 0.3), 0px 1px 3px 1px rgba(60, 64, 67, 0.15);\n",
              "      fill: #174EA6;\n",
              "    }\n",
              "\n",
              "    [theme=dark] .colab-df-convert {\n",
              "      background-color: #3B4455;\n",
              "      fill: #D2E3FC;\n",
              "    }\n",
              "\n",
              "    [theme=dark] .colab-df-convert:hover {\n",
              "      background-color: #434B5C;\n",
              "      box-shadow: 0px 1px 3px 1px rgba(0, 0, 0, 0.15);\n",
              "      filter: drop-shadow(0px 1px 2px rgba(0, 0, 0, 0.3));\n",
              "      fill: #FFFFFF;\n",
              "    }\n",
              "  </style>\n",
              "\n",
              "      <script>\n",
              "        const buttonEl =\n",
              "          document.querySelector('#df-3ffecc34-6e60-40aa-83a7-f2b3866c86fe button.colab-df-convert');\n",
              "        buttonEl.style.display =\n",
              "          google.colab.kernel.accessAllowed ? 'block' : 'none';\n",
              "\n",
              "        async function convertToInteractive(key) {\n",
              "          const element = document.querySelector('#df-3ffecc34-6e60-40aa-83a7-f2b3866c86fe');\n",
              "          const dataTable =\n",
              "            await google.colab.kernel.invokeFunction('convertToInteractive',\n",
              "                                                     [key], {});\n",
              "          if (!dataTable) return;\n",
              "\n",
              "          const docLinkHtml = 'Like what you see? Visit the ' +\n",
              "            '<a target=\"_blank\" href=https://colab.research.google.com/notebooks/data_table.ipynb>data table notebook</a>'\n",
              "            + ' to learn more about interactive tables.';\n",
              "          element.innerHTML = '';\n",
              "          dataTable['output_type'] = 'display_data';\n",
              "          await google.colab.output.renderOutput(dataTable, element);\n",
              "          const docLink = document.createElement('div');\n",
              "          docLink.innerHTML = docLinkHtml;\n",
              "          element.appendChild(docLink);\n",
              "        }\n",
              "      </script>\n",
              "    </div>\n",
              "  </div>\n",
              "  "
            ]
          },
          "metadata": {},
          "execution_count": 7
        }
      ],
      "source": [
        "data.head()"
      ]
    },
    {
      "cell_type": "markdown",
      "id": "b2a623d0",
      "metadata": {
        "id": "b2a623d0"
      },
      "source": [
        "### Step 5: Investigate data\n",
        "- Call **corr()** on the data to see correlations\n",
        "- Inspect what columns are correlated and not"
      ]
    },
    {
      "cell_type": "code",
      "execution_count": null,
      "id": "4626d95b",
      "metadata": {
        "colab": {
          "base_uri": "https://localhost:8080/",
          "height": 691
        },
        "id": "4626d95b",
        "outputId": "36280b94-24cd-4762-c6c4-ee0a77650b6b"
      },
      "outputs": [
        {
          "output_type": "execute_result",
          "data": {
            "text/plain": [
              "                 p (mbar)  T (degC)  Tpot (K)  Tdew (degC)    rh (%)  \\\n",
              "p (mbar)         1.000000 -0.045296 -0.124643    -0.066698 -0.018363   \n",
              "T (degC)        -0.045296  1.000000  0.996826     0.895706 -0.572593   \n",
              "Tpot (K)        -0.124643  0.996826  1.000000     0.894909 -0.567306   \n",
              "Tdew (degC)     -0.066698  0.895706  0.894909     1.000000 -0.156834   \n",
              "rh (%)          -0.018363 -0.572593 -0.567306    -0.156834  1.000000   \n",
              "VPmax (mbar)    -0.031455  0.951080  0.947259     0.799182 -0.616019   \n",
              "VPact (mbar)    -0.054353  0.867691  0.866228     0.968361 -0.151704   \n",
              "VPdef (mbar)    -0.003283  0.761672  0.756886     0.435689 -0.843768   \n",
              "sh (g/kg)       -0.069749  0.866770  0.866553     0.967614 -0.151049   \n",
              "H2OC (mmol/mol) -0.069792  0.867195  0.866978     0.968061 -0.151181   \n",
              "rho (g/m**3)     0.307583 -0.963404 -0.981342    -0.885231  0.514461   \n",
              "wv (m/s)        -0.005740 -0.004923 -0.004426    -0.008581 -0.004227   \n",
              "max. wv (m/s)   -0.007360 -0.003884 -0.003263    -0.009693 -0.008641   \n",
              "wd (deg)        -0.063678  0.041577  0.046465     0.052507 -0.017297   \n",
              "\n",
              "                 VPmax (mbar)  VPact (mbar)  VPdef (mbar)  sh (g/kg)  \\\n",
              "p (mbar)            -0.031455     -0.054353     -0.003283  -0.069749   \n",
              "T (degC)             0.951080      0.867691      0.761672   0.866770   \n",
              "Tpot (K)             0.947259      0.866228      0.756886   0.866553   \n",
              "Tdew (degC)          0.799182      0.968361      0.435689   0.967614   \n",
              "rh (%)              -0.616019     -0.151704     -0.843768  -0.151049   \n",
              "VPmax (mbar)         1.000000      0.824758      0.875639   0.824349   \n",
              "VPact (mbar)         0.824758      1.000000      0.449080   0.999851   \n",
              "VPdef (mbar)         0.875639      0.449080      1.000000   0.448561   \n",
              "sh (g/kg)            0.824349      0.999851      0.448561   1.000000   \n",
              "H2OC (mmol/mol)      0.824386      0.999856      0.448615   0.999997   \n",
              "rho (g/m**3)        -0.901488     -0.850271     -0.698195  -0.853354   \n",
              "wv (m/s)            -0.004358     -0.009390      0.001138  -0.009270   \n",
              "max. wv (m/s)       -0.003154     -0.010883      0.004315  -0.010736   \n",
              "wd (deg)            -0.006787      0.020988     -0.028644   0.021961   \n",
              "\n",
              "                 H2OC (mmol/mol)  rho (g/m**3)  wv (m/s)  max. wv (m/s)  \\\n",
              "p (mbar)               -0.069792      0.307583 -0.005740      -0.007360   \n",
              "T (degC)                0.867195     -0.963404 -0.004923      -0.003884   \n",
              "Tpot (K)                0.866978     -0.981342 -0.004426      -0.003263   \n",
              "Tdew (degC)             0.968061     -0.885231 -0.008581      -0.009693   \n",
              "rh (%)                 -0.151181      0.514461 -0.004227      -0.008641   \n",
              "VPmax (mbar)            0.824386     -0.901488 -0.004358      -0.003154   \n",
              "VPact (mbar)            0.999856     -0.850271 -0.009390      -0.010883   \n",
              "VPdef (mbar)            0.448615     -0.698195  0.001138       0.004315   \n",
              "sh (g/kg)               0.999997     -0.853354 -0.009270      -0.010736   \n",
              "H2OC (mmol/mol)         1.000000     -0.853801 -0.009272      -0.010736   \n",
              "rho (g/m**3)           -0.853801      1.000000  0.003418       0.002138   \n",
              "wv (m/s)               -0.009272      0.003418  1.000000       0.865946   \n",
              "max. wv (m/s)          -0.010736      0.002138  0.865946       1.000000   \n",
              "wd (deg)                0.022195     -0.060856 -0.015354      -0.014768   \n",
              "\n",
              "                 wd (deg)  \n",
              "p (mbar)        -0.063678  \n",
              "T (degC)         0.041577  \n",
              "Tpot (K)         0.046465  \n",
              "Tdew (degC)      0.052507  \n",
              "rh (%)          -0.017297  \n",
              "VPmax (mbar)    -0.006787  \n",
              "VPact (mbar)     0.020988  \n",
              "VPdef (mbar)    -0.028644  \n",
              "sh (g/kg)        0.021961  \n",
              "H2OC (mmol/mol)  0.022195  \n",
              "rho (g/m**3)    -0.060856  \n",
              "wv (m/s)        -0.015354  \n",
              "max. wv (m/s)   -0.014768  \n",
              "wd (deg)         1.000000  "
            ],
            "text/html": [
              "\n",
              "  <div id=\"df-45ad1d5b-c954-4cb1-9890-92d0e10fe651\">\n",
              "    <div class=\"colab-df-container\">\n",
              "      <div>\n",
              "<style scoped>\n",
              "    .dataframe tbody tr th:only-of-type {\n",
              "        vertical-align: middle;\n",
              "    }\n",
              "\n",
              "    .dataframe tbody tr th {\n",
              "        vertical-align: top;\n",
              "    }\n",
              "\n",
              "    .dataframe thead th {\n",
              "        text-align: right;\n",
              "    }\n",
              "</style>\n",
              "<table border=\"1\" class=\"dataframe\">\n",
              "  <thead>\n",
              "    <tr style=\"text-align: right;\">\n",
              "      <th></th>\n",
              "      <th>p (mbar)</th>\n",
              "      <th>T (degC)</th>\n",
              "      <th>Tpot (K)</th>\n",
              "      <th>Tdew (degC)</th>\n",
              "      <th>rh (%)</th>\n",
              "      <th>VPmax (mbar)</th>\n",
              "      <th>VPact (mbar)</th>\n",
              "      <th>VPdef (mbar)</th>\n",
              "      <th>sh (g/kg)</th>\n",
              "      <th>H2OC (mmol/mol)</th>\n",
              "      <th>rho (g/m**3)</th>\n",
              "      <th>wv (m/s)</th>\n",
              "      <th>max. wv (m/s)</th>\n",
              "      <th>wd (deg)</th>\n",
              "    </tr>\n",
              "  </thead>\n",
              "  <tbody>\n",
              "    <tr>\n",
              "      <th>p (mbar)</th>\n",
              "      <td>1.000000</td>\n",
              "      <td>-0.045296</td>\n",
              "      <td>-0.124643</td>\n",
              "      <td>-0.066698</td>\n",
              "      <td>-0.018363</td>\n",
              "      <td>-0.031455</td>\n",
              "      <td>-0.054353</td>\n",
              "      <td>-0.003283</td>\n",
              "      <td>-0.069749</td>\n",
              "      <td>-0.069792</td>\n",
              "      <td>0.307583</td>\n",
              "      <td>-0.005740</td>\n",
              "      <td>-0.007360</td>\n",
              "      <td>-0.063678</td>\n",
              "    </tr>\n",
              "    <tr>\n",
              "      <th>T (degC)</th>\n",
              "      <td>-0.045296</td>\n",
              "      <td>1.000000</td>\n",
              "      <td>0.996826</td>\n",
              "      <td>0.895706</td>\n",
              "      <td>-0.572593</td>\n",
              "      <td>0.951080</td>\n",
              "      <td>0.867691</td>\n",
              "      <td>0.761672</td>\n",
              "      <td>0.866770</td>\n",
              "      <td>0.867195</td>\n",
              "      <td>-0.963404</td>\n",
              "      <td>-0.004923</td>\n",
              "      <td>-0.003884</td>\n",
              "      <td>0.041577</td>\n",
              "    </tr>\n",
              "    <tr>\n",
              "      <th>Tpot (K)</th>\n",
              "      <td>-0.124643</td>\n",
              "      <td>0.996826</td>\n",
              "      <td>1.000000</td>\n",
              "      <td>0.894909</td>\n",
              "      <td>-0.567306</td>\n",
              "      <td>0.947259</td>\n",
              "      <td>0.866228</td>\n",
              "      <td>0.756886</td>\n",
              "      <td>0.866553</td>\n",
              "      <td>0.866978</td>\n",
              "      <td>-0.981342</td>\n",
              "      <td>-0.004426</td>\n",
              "      <td>-0.003263</td>\n",
              "      <td>0.046465</td>\n",
              "    </tr>\n",
              "    <tr>\n",
              "      <th>Tdew (degC)</th>\n",
              "      <td>-0.066698</td>\n",
              "      <td>0.895706</td>\n",
              "      <td>0.894909</td>\n",
              "      <td>1.000000</td>\n",
              "      <td>-0.156834</td>\n",
              "      <td>0.799182</td>\n",
              "      <td>0.968361</td>\n",
              "      <td>0.435689</td>\n",
              "      <td>0.967614</td>\n",
              "      <td>0.968061</td>\n",
              "      <td>-0.885231</td>\n",
              "      <td>-0.008581</td>\n",
              "      <td>-0.009693</td>\n",
              "      <td>0.052507</td>\n",
              "    </tr>\n",
              "    <tr>\n",
              "      <th>rh (%)</th>\n",
              "      <td>-0.018363</td>\n",
              "      <td>-0.572593</td>\n",
              "      <td>-0.567306</td>\n",
              "      <td>-0.156834</td>\n",
              "      <td>1.000000</td>\n",
              "      <td>-0.616019</td>\n",
              "      <td>-0.151704</td>\n",
              "      <td>-0.843768</td>\n",
              "      <td>-0.151049</td>\n",
              "      <td>-0.151181</td>\n",
              "      <td>0.514461</td>\n",
              "      <td>-0.004227</td>\n",
              "      <td>-0.008641</td>\n",
              "      <td>-0.017297</td>\n",
              "    </tr>\n",
              "    <tr>\n",
              "      <th>VPmax (mbar)</th>\n",
              "      <td>-0.031455</td>\n",
              "      <td>0.951080</td>\n",
              "      <td>0.947259</td>\n",
              "      <td>0.799182</td>\n",
              "      <td>-0.616019</td>\n",
              "      <td>1.000000</td>\n",
              "      <td>0.824758</td>\n",
              "      <td>0.875639</td>\n",
              "      <td>0.824349</td>\n",
              "      <td>0.824386</td>\n",
              "      <td>-0.901488</td>\n",
              "      <td>-0.004358</td>\n",
              "      <td>-0.003154</td>\n",
              "      <td>-0.006787</td>\n",
              "    </tr>\n",
              "    <tr>\n",
              "      <th>VPact (mbar)</th>\n",
              "      <td>-0.054353</td>\n",
              "      <td>0.867691</td>\n",
              "      <td>0.866228</td>\n",
              "      <td>0.968361</td>\n",
              "      <td>-0.151704</td>\n",
              "      <td>0.824758</td>\n",
              "      <td>1.000000</td>\n",
              "      <td>0.449080</td>\n",
              "      <td>0.999851</td>\n",
              "      <td>0.999856</td>\n",
              "      <td>-0.850271</td>\n",
              "      <td>-0.009390</td>\n",
              "      <td>-0.010883</td>\n",
              "      <td>0.020988</td>\n",
              "    </tr>\n",
              "    <tr>\n",
              "      <th>VPdef (mbar)</th>\n",
              "      <td>-0.003283</td>\n",
              "      <td>0.761672</td>\n",
              "      <td>0.756886</td>\n",
              "      <td>0.435689</td>\n",
              "      <td>-0.843768</td>\n",
              "      <td>0.875639</td>\n",
              "      <td>0.449080</td>\n",
              "      <td>1.000000</td>\n",
              "      <td>0.448561</td>\n",
              "      <td>0.448615</td>\n",
              "      <td>-0.698195</td>\n",
              "      <td>0.001138</td>\n",
              "      <td>0.004315</td>\n",
              "      <td>-0.028644</td>\n",
              "    </tr>\n",
              "    <tr>\n",
              "      <th>sh (g/kg)</th>\n",
              "      <td>-0.069749</td>\n",
              "      <td>0.866770</td>\n",
              "      <td>0.866553</td>\n",
              "      <td>0.967614</td>\n",
              "      <td>-0.151049</td>\n",
              "      <td>0.824349</td>\n",
              "      <td>0.999851</td>\n",
              "      <td>0.448561</td>\n",
              "      <td>1.000000</td>\n",
              "      <td>0.999997</td>\n",
              "      <td>-0.853354</td>\n",
              "      <td>-0.009270</td>\n",
              "      <td>-0.010736</td>\n",
              "      <td>0.021961</td>\n",
              "    </tr>\n",
              "    <tr>\n",
              "      <th>H2OC (mmol/mol)</th>\n",
              "      <td>-0.069792</td>\n",
              "      <td>0.867195</td>\n",
              "      <td>0.866978</td>\n",
              "      <td>0.968061</td>\n",
              "      <td>-0.151181</td>\n",
              "      <td>0.824386</td>\n",
              "      <td>0.999856</td>\n",
              "      <td>0.448615</td>\n",
              "      <td>0.999997</td>\n",
              "      <td>1.000000</td>\n",
              "      <td>-0.853801</td>\n",
              "      <td>-0.009272</td>\n",
              "      <td>-0.010736</td>\n",
              "      <td>0.022195</td>\n",
              "    </tr>\n",
              "    <tr>\n",
              "      <th>rho (g/m**3)</th>\n",
              "      <td>0.307583</td>\n",
              "      <td>-0.963404</td>\n",
              "      <td>-0.981342</td>\n",
              "      <td>-0.885231</td>\n",
              "      <td>0.514461</td>\n",
              "      <td>-0.901488</td>\n",
              "      <td>-0.850271</td>\n",
              "      <td>-0.698195</td>\n",
              "      <td>-0.853354</td>\n",
              "      <td>-0.853801</td>\n",
              "      <td>1.000000</td>\n",
              "      <td>0.003418</td>\n",
              "      <td>0.002138</td>\n",
              "      <td>-0.060856</td>\n",
              "    </tr>\n",
              "    <tr>\n",
              "      <th>wv (m/s)</th>\n",
              "      <td>-0.005740</td>\n",
              "      <td>-0.004923</td>\n",
              "      <td>-0.004426</td>\n",
              "      <td>-0.008581</td>\n",
              "      <td>-0.004227</td>\n",
              "      <td>-0.004358</td>\n",
              "      <td>-0.009390</td>\n",
              "      <td>0.001138</td>\n",
              "      <td>-0.009270</td>\n",
              "      <td>-0.009272</td>\n",
              "      <td>0.003418</td>\n",
              "      <td>1.000000</td>\n",
              "      <td>0.865946</td>\n",
              "      <td>-0.015354</td>\n",
              "    </tr>\n",
              "    <tr>\n",
              "      <th>max. wv (m/s)</th>\n",
              "      <td>-0.007360</td>\n",
              "      <td>-0.003884</td>\n",
              "      <td>-0.003263</td>\n",
              "      <td>-0.009693</td>\n",
              "      <td>-0.008641</td>\n",
              "      <td>-0.003154</td>\n",
              "      <td>-0.010883</td>\n",
              "      <td>0.004315</td>\n",
              "      <td>-0.010736</td>\n",
              "      <td>-0.010736</td>\n",
              "      <td>0.002138</td>\n",
              "      <td>0.865946</td>\n",
              "      <td>1.000000</td>\n",
              "      <td>-0.014768</td>\n",
              "    </tr>\n",
              "    <tr>\n",
              "      <th>wd (deg)</th>\n",
              "      <td>-0.063678</td>\n",
              "      <td>0.041577</td>\n",
              "      <td>0.046465</td>\n",
              "      <td>0.052507</td>\n",
              "      <td>-0.017297</td>\n",
              "      <td>-0.006787</td>\n",
              "      <td>0.020988</td>\n",
              "      <td>-0.028644</td>\n",
              "      <td>0.021961</td>\n",
              "      <td>0.022195</td>\n",
              "      <td>-0.060856</td>\n",
              "      <td>-0.015354</td>\n",
              "      <td>-0.014768</td>\n",
              "      <td>1.000000</td>\n",
              "    </tr>\n",
              "  </tbody>\n",
              "</table>\n",
              "</div>\n",
              "      <button class=\"colab-df-convert\" onclick=\"convertToInteractive('df-45ad1d5b-c954-4cb1-9890-92d0e10fe651')\"\n",
              "              title=\"Convert this dataframe to an interactive table.\"\n",
              "              style=\"display:none;\">\n",
              "        \n",
              "  <svg xmlns=\"http://www.w3.org/2000/svg\" height=\"24px\"viewBox=\"0 0 24 24\"\n",
              "       width=\"24px\">\n",
              "    <path d=\"M0 0h24v24H0V0z\" fill=\"none\"/>\n",
              "    <path d=\"M18.56 5.44l.94 2.06.94-2.06 2.06-.94-2.06-.94-.94-2.06-.94 2.06-2.06.94zm-11 1L8.5 8.5l.94-2.06 2.06-.94-2.06-.94L8.5 2.5l-.94 2.06-2.06.94zm10 10l.94 2.06.94-2.06 2.06-.94-2.06-.94-.94-2.06-.94 2.06-2.06.94z\"/><path d=\"M17.41 7.96l-1.37-1.37c-.4-.4-.92-.59-1.43-.59-.52 0-1.04.2-1.43.59L10.3 9.45l-7.72 7.72c-.78.78-.78 2.05 0 2.83L4 21.41c.39.39.9.59 1.41.59.51 0 1.02-.2 1.41-.59l7.78-7.78 2.81-2.81c.8-.78.8-2.07 0-2.86zM5.41 20L4 18.59l7.72-7.72 1.47 1.35L5.41 20z\"/>\n",
              "  </svg>\n",
              "      </button>\n",
              "      \n",
              "  <style>\n",
              "    .colab-df-container {\n",
              "      display:flex;\n",
              "      flex-wrap:wrap;\n",
              "      gap: 12px;\n",
              "    }\n",
              "\n",
              "    .colab-df-convert {\n",
              "      background-color: #E8F0FE;\n",
              "      border: none;\n",
              "      border-radius: 50%;\n",
              "      cursor: pointer;\n",
              "      display: none;\n",
              "      fill: #1967D2;\n",
              "      height: 32px;\n",
              "      padding: 0 0 0 0;\n",
              "      width: 32px;\n",
              "    }\n",
              "\n",
              "    .colab-df-convert:hover {\n",
              "      background-color: #E2EBFA;\n",
              "      box-shadow: 0px 1px 2px rgba(60, 64, 67, 0.3), 0px 1px 3px 1px rgba(60, 64, 67, 0.15);\n",
              "      fill: #174EA6;\n",
              "    }\n",
              "\n",
              "    [theme=dark] .colab-df-convert {\n",
              "      background-color: #3B4455;\n",
              "      fill: #D2E3FC;\n",
              "    }\n",
              "\n",
              "    [theme=dark] .colab-df-convert:hover {\n",
              "      background-color: #434B5C;\n",
              "      box-shadow: 0px 1px 3px 1px rgba(0, 0, 0, 0.15);\n",
              "      filter: drop-shadow(0px 1px 2px rgba(0, 0, 0, 0.3));\n",
              "      fill: #FFFFFF;\n",
              "    }\n",
              "  </style>\n",
              "\n",
              "      <script>\n",
              "        const buttonEl =\n",
              "          document.querySelector('#df-45ad1d5b-c954-4cb1-9890-92d0e10fe651 button.colab-df-convert');\n",
              "        buttonEl.style.display =\n",
              "          google.colab.kernel.accessAllowed ? 'block' : 'none';\n",
              "\n",
              "        async function convertToInteractive(key) {\n",
              "          const element = document.querySelector('#df-45ad1d5b-c954-4cb1-9890-92d0e10fe651');\n",
              "          const dataTable =\n",
              "            await google.colab.kernel.invokeFunction('convertToInteractive',\n",
              "                                                     [key], {});\n",
              "          if (!dataTable) return;\n",
              "\n",
              "          const docLinkHtml = 'Like what you see? Visit the ' +\n",
              "            '<a target=\"_blank\" href=https://colab.research.google.com/notebooks/data_table.ipynb>data table notebook</a>'\n",
              "            + ' to learn more about interactive tables.';\n",
              "          element.innerHTML = '';\n",
              "          dataTable['output_type'] = 'display_data';\n",
              "          await google.colab.output.renderOutput(dataTable, element);\n",
              "          const docLink = document.createElement('div');\n",
              "          docLink.innerHTML = docLinkHtml;\n",
              "          element.appendChild(docLink);\n",
              "        }\n",
              "      </script>\n",
              "    </div>\n",
              "  </div>\n",
              "  "
            ]
          },
          "metadata": {},
          "execution_count": 8
        }
      ],
      "source": [
        "data.corr()"
      ]
    },
    {
      "cell_type": "code",
      "execution_count": null,
      "id": "47439e07",
      "metadata": {
        "id": "47439e07"
      },
      "outputs": [],
      "source": []
    },
    {
      "cell_type": "markdown",
      "id": "0639b914",
      "metadata": {
        "id": "0639b914"
      },
      "source": [
        "### Step 6: Remove data\n",
        "- Potential some data could be transformed **'wv (m/s)', 'max. wv (m/s)', 'wd (deg)'**\n",
        "    - We will ignorre it"
      ]
    },
    {
      "cell_type": "code",
      "execution_count": null,
      "id": "8475c75d",
      "metadata": {
        "id": "8475c75d"
      },
      "outputs": [],
      "source": [
        "df = data.drop(['wv (m/s)', 'max. wv (m/s)', 'wd (deg)'], axis=1)"
      ]
    },
    {
      "cell_type": "code",
      "execution_count": null,
      "id": "e66700bb",
      "metadata": {
        "id": "e66700bb"
      },
      "outputs": [],
      "source": []
    },
    {
      "cell_type": "markdown",
      "id": "92450271",
      "metadata": {
        "id": "92450271"
      },
      "source": [
        "### Step 7: Add periodic time intervals\n",
        "- Temperature is correlated to the time of day - e.g. it is warmer at mid day than at mid night\n",
        "- Temperature is correlated to seasons (most places in the world) - e.g. it is warmer in summer than in winter\n",
        "- The datetime index is not easy for the model to interpret, hence we can transform it into sinus and cosinus curves based on day and year.\n",
        "- Do it like this\n",
        "    - Assign the dataframe index to a variable, say, **timestamp_s**\n",
        "    - Transform that by using **map(pd.Timestamp.timestamp)**\n",
        "    - Use the period **day =** $24\\times 60 \\times 60$ and **year =** $(365.2425)\\times$**day**\n",
        "    - Make the following columns **'Day sin', 'Day cos', 'Year sin'**, and **'Year cos'** as follows:\n",
        "        - e.g. **df['Day sin'] = np.sin(timestamp_s * (2 * np.pi / day))**"
      ]
    },
    {
      "cell_type": "code",
      "execution_count": null,
      "id": "ea561a61",
      "metadata": {
        "id": "ea561a61"
      },
      "outputs": [],
      "source": [
        "timestamps_s = df.index\n",
        "\n",
        "timestamps_s = timestamps_s.map(pd.Timestamp.timestamp)"
      ]
    },
    {
      "cell_type": "code",
      "execution_count": null,
      "id": "ae590288",
      "metadata": {
        "id": "ae590288"
      },
      "outputs": [],
      "source": [
        "day = 24*60*60\n",
        "year = 365.2425*day"
      ]
    },
    {
      "cell_type": "code",
      "source": [
        "df['Day sin'] = np.sin(timestamps_s * (2 * np.pi / day))\n",
        "df['Day cos'] = np.cos(timestamps_s * (2 * np.pi / day))\n",
        "df['Year sin'] = np.sin(timestamps_s * (2 * np.pi / year))\n",
        "df['Year cos'] = np.cos(timestamps_s * (2 * np.pi / year))"
      ],
      "metadata": {
        "id": "QOd_qB6fUa5I"
      },
      "id": "QOd_qB6fUa5I",
      "execution_count": null,
      "outputs": []
    },
    {
      "cell_type": "code",
      "execution_count": null,
      "id": "e6576dae",
      "metadata": {
        "id": "e6576dae",
        "outputId": "755b64e2-a1e2-4bd1-d426-b27bc59a01f1"
      },
      "outputs": [
        {
          "data": {
            "text/plain": [
              "DatetimeIndex(['2009-01-01 01:00:00', '2009-01-01 02:00:00',\n",
              "               '2009-01-01 03:00:00', '2009-01-01 04:00:00',\n",
              "               '2009-01-01 05:00:00', '2009-01-01 06:00:00',\n",
              "               '2009-01-01 07:00:00', '2009-01-01 08:00:00',\n",
              "               '2009-01-01 09:00:00', '2009-01-01 10:00:00',\n",
              "               ...\n",
              "               '2016-12-31 14:10:00', '2016-12-31 15:10:00',\n",
              "               '2016-12-31 16:10:00', '2016-12-31 17:10:00',\n",
              "               '2016-12-31 18:10:00', '2016-12-31 19:10:00',\n",
              "               '2016-12-31 20:10:00', '2016-12-31 21:10:00',\n",
              "               '2016-12-31 22:10:00', '2016-12-31 23:10:00'],\n",
              "              dtype='datetime64[ns]', name='Date Time', length=70091, freq=None)"
            ]
          },
          "execution_count": 12,
          "metadata": {},
          "output_type": "execute_result"
        }
      ],
      "source": []
    },
    {
      "cell_type": "code",
      "execution_count": null,
      "id": "887bf1bb",
      "metadata": {
        "id": "887bf1bb"
      },
      "outputs": [],
      "source": []
    },
    {
      "cell_type": "code",
      "execution_count": null,
      "id": "3b19e744",
      "metadata": {
        "id": "3b19e744"
      },
      "outputs": [],
      "source": []
    },
    {
      "cell_type": "code",
      "execution_count": null,
      "id": "12ad3806",
      "metadata": {
        "id": "12ad3806",
        "outputId": "bd61aca7-f8f2-4936-961b-daa44044c520",
        "colab": {
          "base_uri": "https://localhost:8080/",
          "height": 705
        }
      },
      "outputs": [
        {
          "output_type": "execute_result",
          "data": {
            "text/plain": [
              "                 p (mbar)  T (degC)  Tpot (K)  Tdew (degC)    rh (%)  \\\n",
              "p (mbar)         1.000000 -0.045296 -0.124643    -0.066698 -0.018363   \n",
              "T (degC)        -0.045296  1.000000  0.996826     0.895706 -0.572593   \n",
              "Tpot (K)        -0.124643  0.996826  1.000000     0.894909 -0.567306   \n",
              "Tdew (degC)     -0.066698  0.895706  0.894909     1.000000 -0.156834   \n",
              "rh (%)          -0.018363 -0.572593 -0.567306    -0.156834  1.000000   \n",
              "VPmax (mbar)    -0.031455  0.951080  0.947259     0.799182 -0.616019   \n",
              "VPact (mbar)    -0.054353  0.867691  0.866228     0.968361 -0.151704   \n",
              "VPdef (mbar)    -0.003283  0.761672  0.756886     0.435689 -0.843768   \n",
              "sh (g/kg)       -0.069749  0.866770  0.866553     0.967614 -0.151049   \n",
              "H2OC (mmol/mol) -0.069792  0.867195  0.866978     0.968061 -0.151181   \n",
              "rho (g/m**3)     0.307583 -0.963404 -0.981342    -0.885231  0.514461   \n",
              "Day sin          0.024335 -0.209414 -0.209994    -0.042241  0.393867   \n",
              "Day cos          0.004076 -0.158552 -0.157833    -0.021313  0.312590   \n",
              "Year sin        -0.056380 -0.142263 -0.136772    -0.216200 -0.088733   \n",
              "Year cos         0.019768 -0.462367 -0.460871    -0.430777  0.242826   \n",
              "\n",
              "                 VPmax (mbar)  VPact (mbar)  VPdef (mbar)  sh (g/kg)  \\\n",
              "p (mbar)            -0.031455     -0.054353     -0.003283  -0.069749   \n",
              "T (degC)             0.951080      0.867691      0.761672   0.866770   \n",
              "Tpot (K)             0.947259      0.866228      0.756886   0.866553   \n",
              "Tdew (degC)          0.799182      0.968361      0.435689   0.967614   \n",
              "rh (%)              -0.616019     -0.151704     -0.843768  -0.151049   \n",
              "VPmax (mbar)         1.000000      0.824758      0.875639   0.824349   \n",
              "VPact (mbar)         0.824758      1.000000      0.449080   0.999851   \n",
              "VPdef (mbar)         0.875639      0.449080      1.000000   0.448561   \n",
              "sh (g/kg)            0.824349      0.999851      0.448561   1.000000   \n",
              "H2OC (mmol/mol)      0.824386      0.999856      0.448615   0.999997   \n",
              "rho (g/m**3)        -0.901488     -0.850271     -0.698195  -0.853354   \n",
              "Day sin             -0.230615     -0.040985     -0.329381  -0.041465   \n",
              "Day cos             -0.185214     -0.023096     -0.272917  -0.023153   \n",
              "Year sin            -0.131800     -0.214678     -0.024901  -0.213249   \n",
              "Year cos            -0.433101     -0.439461     -0.308988  -0.439367   \n",
              "\n",
              "                 H2OC (mmol/mol)  rho (g/m**3)   Day sin   Day cos  Year sin  \\\n",
              "p (mbar)               -0.069792      0.307583  0.024335  0.004076 -0.056380   \n",
              "T (degC)                0.867195     -0.963404 -0.209414 -0.158552 -0.142263   \n",
              "Tpot (K)                0.866978     -0.981342 -0.209994 -0.157833 -0.136772   \n",
              "Tdew (degC)             0.968061     -0.885231 -0.042241 -0.021313 -0.216200   \n",
              "rh (%)                 -0.151181      0.514461  0.393867  0.312590 -0.088733   \n",
              "VPmax (mbar)            0.824386     -0.901488 -0.230615 -0.185214 -0.131800   \n",
              "VPact (mbar)            0.999856     -0.850271 -0.040985 -0.023096 -0.214678   \n",
              "VPdef (mbar)            0.448615     -0.698195 -0.329381 -0.272917 -0.024901   \n",
              "sh (g/kg)               0.999997     -0.853354 -0.041465 -0.023153 -0.213249   \n",
              "H2OC (mmol/mol)         1.000000     -0.853801 -0.041463 -0.023142 -0.213366   \n",
              "rho (g/m**3)           -0.853801      1.000000  0.195175  0.142375  0.125191   \n",
              "Day sin                -0.041463      0.195175  1.000000  0.000072 -0.000037   \n",
              "Day cos                -0.023142      0.142375  0.000072  1.000000 -0.000020   \n",
              "Year sin               -0.213366      0.125191 -0.000037 -0.000020  1.000000   \n",
              "Year cos               -0.439501      0.445831 -0.000011 -0.000030  0.001023   \n",
              "\n",
              "                 Year cos  \n",
              "p (mbar)         0.019768  \n",
              "T (degC)        -0.462367  \n",
              "Tpot (K)        -0.460871  \n",
              "Tdew (degC)     -0.430777  \n",
              "rh (%)           0.242826  \n",
              "VPmax (mbar)    -0.433101  \n",
              "VPact (mbar)    -0.439461  \n",
              "VPdef (mbar)    -0.308988  \n",
              "sh (g/kg)       -0.439367  \n",
              "H2OC (mmol/mol) -0.439501  \n",
              "rho (g/m**3)     0.445831  \n",
              "Day sin         -0.000011  \n",
              "Day cos         -0.000030  \n",
              "Year sin         0.001023  \n",
              "Year cos         1.000000  "
            ],
            "text/html": [
              "\n",
              "  <div id=\"df-189dc4e5-68c5-4c22-a124-df8e509c8efa\">\n",
              "    <div class=\"colab-df-container\">\n",
              "      <div>\n",
              "<style scoped>\n",
              "    .dataframe tbody tr th:only-of-type {\n",
              "        vertical-align: middle;\n",
              "    }\n",
              "\n",
              "    .dataframe tbody tr th {\n",
              "        vertical-align: top;\n",
              "    }\n",
              "\n",
              "    .dataframe thead th {\n",
              "        text-align: right;\n",
              "    }\n",
              "</style>\n",
              "<table border=\"1\" class=\"dataframe\">\n",
              "  <thead>\n",
              "    <tr style=\"text-align: right;\">\n",
              "      <th></th>\n",
              "      <th>p (mbar)</th>\n",
              "      <th>T (degC)</th>\n",
              "      <th>Tpot (K)</th>\n",
              "      <th>Tdew (degC)</th>\n",
              "      <th>rh (%)</th>\n",
              "      <th>VPmax (mbar)</th>\n",
              "      <th>VPact (mbar)</th>\n",
              "      <th>VPdef (mbar)</th>\n",
              "      <th>sh (g/kg)</th>\n",
              "      <th>H2OC (mmol/mol)</th>\n",
              "      <th>rho (g/m**3)</th>\n",
              "      <th>Day sin</th>\n",
              "      <th>Day cos</th>\n",
              "      <th>Year sin</th>\n",
              "      <th>Year cos</th>\n",
              "    </tr>\n",
              "  </thead>\n",
              "  <tbody>\n",
              "    <tr>\n",
              "      <th>p (mbar)</th>\n",
              "      <td>1.000000</td>\n",
              "      <td>-0.045296</td>\n",
              "      <td>-0.124643</td>\n",
              "      <td>-0.066698</td>\n",
              "      <td>-0.018363</td>\n",
              "      <td>-0.031455</td>\n",
              "      <td>-0.054353</td>\n",
              "      <td>-0.003283</td>\n",
              "      <td>-0.069749</td>\n",
              "      <td>-0.069792</td>\n",
              "      <td>0.307583</td>\n",
              "      <td>0.024335</td>\n",
              "      <td>0.004076</td>\n",
              "      <td>-0.056380</td>\n",
              "      <td>0.019768</td>\n",
              "    </tr>\n",
              "    <tr>\n",
              "      <th>T (degC)</th>\n",
              "      <td>-0.045296</td>\n",
              "      <td>1.000000</td>\n",
              "      <td>0.996826</td>\n",
              "      <td>0.895706</td>\n",
              "      <td>-0.572593</td>\n",
              "      <td>0.951080</td>\n",
              "      <td>0.867691</td>\n",
              "      <td>0.761672</td>\n",
              "      <td>0.866770</td>\n",
              "      <td>0.867195</td>\n",
              "      <td>-0.963404</td>\n",
              "      <td>-0.209414</td>\n",
              "      <td>-0.158552</td>\n",
              "      <td>-0.142263</td>\n",
              "      <td>-0.462367</td>\n",
              "    </tr>\n",
              "    <tr>\n",
              "      <th>Tpot (K)</th>\n",
              "      <td>-0.124643</td>\n",
              "      <td>0.996826</td>\n",
              "      <td>1.000000</td>\n",
              "      <td>0.894909</td>\n",
              "      <td>-0.567306</td>\n",
              "      <td>0.947259</td>\n",
              "      <td>0.866228</td>\n",
              "      <td>0.756886</td>\n",
              "      <td>0.866553</td>\n",
              "      <td>0.866978</td>\n",
              "      <td>-0.981342</td>\n",
              "      <td>-0.209994</td>\n",
              "      <td>-0.157833</td>\n",
              "      <td>-0.136772</td>\n",
              "      <td>-0.460871</td>\n",
              "    </tr>\n",
              "    <tr>\n",
              "      <th>Tdew (degC)</th>\n",
              "      <td>-0.066698</td>\n",
              "      <td>0.895706</td>\n",
              "      <td>0.894909</td>\n",
              "      <td>1.000000</td>\n",
              "      <td>-0.156834</td>\n",
              "      <td>0.799182</td>\n",
              "      <td>0.968361</td>\n",
              "      <td>0.435689</td>\n",
              "      <td>0.967614</td>\n",
              "      <td>0.968061</td>\n",
              "      <td>-0.885231</td>\n",
              "      <td>-0.042241</td>\n",
              "      <td>-0.021313</td>\n",
              "      <td>-0.216200</td>\n",
              "      <td>-0.430777</td>\n",
              "    </tr>\n",
              "    <tr>\n",
              "      <th>rh (%)</th>\n",
              "      <td>-0.018363</td>\n",
              "      <td>-0.572593</td>\n",
              "      <td>-0.567306</td>\n",
              "      <td>-0.156834</td>\n",
              "      <td>1.000000</td>\n",
              "      <td>-0.616019</td>\n",
              "      <td>-0.151704</td>\n",
              "      <td>-0.843768</td>\n",
              "      <td>-0.151049</td>\n",
              "      <td>-0.151181</td>\n",
              "      <td>0.514461</td>\n",
              "      <td>0.393867</td>\n",
              "      <td>0.312590</td>\n",
              "      <td>-0.088733</td>\n",
              "      <td>0.242826</td>\n",
              "    </tr>\n",
              "    <tr>\n",
              "      <th>VPmax (mbar)</th>\n",
              "      <td>-0.031455</td>\n",
              "      <td>0.951080</td>\n",
              "      <td>0.947259</td>\n",
              "      <td>0.799182</td>\n",
              "      <td>-0.616019</td>\n",
              "      <td>1.000000</td>\n",
              "      <td>0.824758</td>\n",
              "      <td>0.875639</td>\n",
              "      <td>0.824349</td>\n",
              "      <td>0.824386</td>\n",
              "      <td>-0.901488</td>\n",
              "      <td>-0.230615</td>\n",
              "      <td>-0.185214</td>\n",
              "      <td>-0.131800</td>\n",
              "      <td>-0.433101</td>\n",
              "    </tr>\n",
              "    <tr>\n",
              "      <th>VPact (mbar)</th>\n",
              "      <td>-0.054353</td>\n",
              "      <td>0.867691</td>\n",
              "      <td>0.866228</td>\n",
              "      <td>0.968361</td>\n",
              "      <td>-0.151704</td>\n",
              "      <td>0.824758</td>\n",
              "      <td>1.000000</td>\n",
              "      <td>0.449080</td>\n",
              "      <td>0.999851</td>\n",
              "      <td>0.999856</td>\n",
              "      <td>-0.850271</td>\n",
              "      <td>-0.040985</td>\n",
              "      <td>-0.023096</td>\n",
              "      <td>-0.214678</td>\n",
              "      <td>-0.439461</td>\n",
              "    </tr>\n",
              "    <tr>\n",
              "      <th>VPdef (mbar)</th>\n",
              "      <td>-0.003283</td>\n",
              "      <td>0.761672</td>\n",
              "      <td>0.756886</td>\n",
              "      <td>0.435689</td>\n",
              "      <td>-0.843768</td>\n",
              "      <td>0.875639</td>\n",
              "      <td>0.449080</td>\n",
              "      <td>1.000000</td>\n",
              "      <td>0.448561</td>\n",
              "      <td>0.448615</td>\n",
              "      <td>-0.698195</td>\n",
              "      <td>-0.329381</td>\n",
              "      <td>-0.272917</td>\n",
              "      <td>-0.024901</td>\n",
              "      <td>-0.308988</td>\n",
              "    </tr>\n",
              "    <tr>\n",
              "      <th>sh (g/kg)</th>\n",
              "      <td>-0.069749</td>\n",
              "      <td>0.866770</td>\n",
              "      <td>0.866553</td>\n",
              "      <td>0.967614</td>\n",
              "      <td>-0.151049</td>\n",
              "      <td>0.824349</td>\n",
              "      <td>0.999851</td>\n",
              "      <td>0.448561</td>\n",
              "      <td>1.000000</td>\n",
              "      <td>0.999997</td>\n",
              "      <td>-0.853354</td>\n",
              "      <td>-0.041465</td>\n",
              "      <td>-0.023153</td>\n",
              "      <td>-0.213249</td>\n",
              "      <td>-0.439367</td>\n",
              "    </tr>\n",
              "    <tr>\n",
              "      <th>H2OC (mmol/mol)</th>\n",
              "      <td>-0.069792</td>\n",
              "      <td>0.867195</td>\n",
              "      <td>0.866978</td>\n",
              "      <td>0.968061</td>\n",
              "      <td>-0.151181</td>\n",
              "      <td>0.824386</td>\n",
              "      <td>0.999856</td>\n",
              "      <td>0.448615</td>\n",
              "      <td>0.999997</td>\n",
              "      <td>1.000000</td>\n",
              "      <td>-0.853801</td>\n",
              "      <td>-0.041463</td>\n",
              "      <td>-0.023142</td>\n",
              "      <td>-0.213366</td>\n",
              "      <td>-0.439501</td>\n",
              "    </tr>\n",
              "    <tr>\n",
              "      <th>rho (g/m**3)</th>\n",
              "      <td>0.307583</td>\n",
              "      <td>-0.963404</td>\n",
              "      <td>-0.981342</td>\n",
              "      <td>-0.885231</td>\n",
              "      <td>0.514461</td>\n",
              "      <td>-0.901488</td>\n",
              "      <td>-0.850271</td>\n",
              "      <td>-0.698195</td>\n",
              "      <td>-0.853354</td>\n",
              "      <td>-0.853801</td>\n",
              "      <td>1.000000</td>\n",
              "      <td>0.195175</td>\n",
              "      <td>0.142375</td>\n",
              "      <td>0.125191</td>\n",
              "      <td>0.445831</td>\n",
              "    </tr>\n",
              "    <tr>\n",
              "      <th>Day sin</th>\n",
              "      <td>0.024335</td>\n",
              "      <td>-0.209414</td>\n",
              "      <td>-0.209994</td>\n",
              "      <td>-0.042241</td>\n",
              "      <td>0.393867</td>\n",
              "      <td>-0.230615</td>\n",
              "      <td>-0.040985</td>\n",
              "      <td>-0.329381</td>\n",
              "      <td>-0.041465</td>\n",
              "      <td>-0.041463</td>\n",
              "      <td>0.195175</td>\n",
              "      <td>1.000000</td>\n",
              "      <td>0.000072</td>\n",
              "      <td>-0.000037</td>\n",
              "      <td>-0.000011</td>\n",
              "    </tr>\n",
              "    <tr>\n",
              "      <th>Day cos</th>\n",
              "      <td>0.004076</td>\n",
              "      <td>-0.158552</td>\n",
              "      <td>-0.157833</td>\n",
              "      <td>-0.021313</td>\n",
              "      <td>0.312590</td>\n",
              "      <td>-0.185214</td>\n",
              "      <td>-0.023096</td>\n",
              "      <td>-0.272917</td>\n",
              "      <td>-0.023153</td>\n",
              "      <td>-0.023142</td>\n",
              "      <td>0.142375</td>\n",
              "      <td>0.000072</td>\n",
              "      <td>1.000000</td>\n",
              "      <td>-0.000020</td>\n",
              "      <td>-0.000030</td>\n",
              "    </tr>\n",
              "    <tr>\n",
              "      <th>Year sin</th>\n",
              "      <td>-0.056380</td>\n",
              "      <td>-0.142263</td>\n",
              "      <td>-0.136772</td>\n",
              "      <td>-0.216200</td>\n",
              "      <td>-0.088733</td>\n",
              "      <td>-0.131800</td>\n",
              "      <td>-0.214678</td>\n",
              "      <td>-0.024901</td>\n",
              "      <td>-0.213249</td>\n",
              "      <td>-0.213366</td>\n",
              "      <td>0.125191</td>\n",
              "      <td>-0.000037</td>\n",
              "      <td>-0.000020</td>\n",
              "      <td>1.000000</td>\n",
              "      <td>0.001023</td>\n",
              "    </tr>\n",
              "    <tr>\n",
              "      <th>Year cos</th>\n",
              "      <td>0.019768</td>\n",
              "      <td>-0.462367</td>\n",
              "      <td>-0.460871</td>\n",
              "      <td>-0.430777</td>\n",
              "      <td>0.242826</td>\n",
              "      <td>-0.433101</td>\n",
              "      <td>-0.439461</td>\n",
              "      <td>-0.308988</td>\n",
              "      <td>-0.439367</td>\n",
              "      <td>-0.439501</td>\n",
              "      <td>0.445831</td>\n",
              "      <td>-0.000011</td>\n",
              "      <td>-0.000030</td>\n",
              "      <td>0.001023</td>\n",
              "      <td>1.000000</td>\n",
              "    </tr>\n",
              "  </tbody>\n",
              "</table>\n",
              "</div>\n",
              "      <button class=\"colab-df-convert\" onclick=\"convertToInteractive('df-189dc4e5-68c5-4c22-a124-df8e509c8efa')\"\n",
              "              title=\"Convert this dataframe to an interactive table.\"\n",
              "              style=\"display:none;\">\n",
              "        \n",
              "  <svg xmlns=\"http://www.w3.org/2000/svg\" height=\"24px\"viewBox=\"0 0 24 24\"\n",
              "       width=\"24px\">\n",
              "    <path d=\"M0 0h24v24H0V0z\" fill=\"none\"/>\n",
              "    <path d=\"M18.56 5.44l.94 2.06.94-2.06 2.06-.94-2.06-.94-.94-2.06-.94 2.06-2.06.94zm-11 1L8.5 8.5l.94-2.06 2.06-.94-2.06-.94L8.5 2.5l-.94 2.06-2.06.94zm10 10l.94 2.06.94-2.06 2.06-.94-2.06-.94-.94-2.06-.94 2.06-2.06.94z\"/><path d=\"M17.41 7.96l-1.37-1.37c-.4-.4-.92-.59-1.43-.59-.52 0-1.04.2-1.43.59L10.3 9.45l-7.72 7.72c-.78.78-.78 2.05 0 2.83L4 21.41c.39.39.9.59 1.41.59.51 0 1.02-.2 1.41-.59l7.78-7.78 2.81-2.81c.8-.78.8-2.07 0-2.86zM5.41 20L4 18.59l7.72-7.72 1.47 1.35L5.41 20z\"/>\n",
              "  </svg>\n",
              "      </button>\n",
              "      \n",
              "  <style>\n",
              "    .colab-df-container {\n",
              "      display:flex;\n",
              "      flex-wrap:wrap;\n",
              "      gap: 12px;\n",
              "    }\n",
              "\n",
              "    .colab-df-convert {\n",
              "      background-color: #E8F0FE;\n",
              "      border: none;\n",
              "      border-radius: 50%;\n",
              "      cursor: pointer;\n",
              "      display: none;\n",
              "      fill: #1967D2;\n",
              "      height: 32px;\n",
              "      padding: 0 0 0 0;\n",
              "      width: 32px;\n",
              "    }\n",
              "\n",
              "    .colab-df-convert:hover {\n",
              "      background-color: #E2EBFA;\n",
              "      box-shadow: 0px 1px 2px rgba(60, 64, 67, 0.3), 0px 1px 3px 1px rgba(60, 64, 67, 0.15);\n",
              "      fill: #174EA6;\n",
              "    }\n",
              "\n",
              "    [theme=dark] .colab-df-convert {\n",
              "      background-color: #3B4455;\n",
              "      fill: #D2E3FC;\n",
              "    }\n",
              "\n",
              "    [theme=dark] .colab-df-convert:hover {\n",
              "      background-color: #434B5C;\n",
              "      box-shadow: 0px 1px 3px 1px rgba(0, 0, 0, 0.15);\n",
              "      filter: drop-shadow(0px 1px 2px rgba(0, 0, 0, 0.3));\n",
              "      fill: #FFFFFF;\n",
              "    }\n",
              "  </style>\n",
              "\n",
              "      <script>\n",
              "        const buttonEl =\n",
              "          document.querySelector('#df-189dc4e5-68c5-4c22-a124-df8e509c8efa button.colab-df-convert');\n",
              "        buttonEl.style.display =\n",
              "          google.colab.kernel.accessAllowed ? 'block' : 'none';\n",
              "\n",
              "        async function convertToInteractive(key) {\n",
              "          const element = document.querySelector('#df-189dc4e5-68c5-4c22-a124-df8e509c8efa');\n",
              "          const dataTable =\n",
              "            await google.colab.kernel.invokeFunction('convertToInteractive',\n",
              "                                                     [key], {});\n",
              "          if (!dataTable) return;\n",
              "\n",
              "          const docLinkHtml = 'Like what you see? Visit the ' +\n",
              "            '<a target=\"_blank\" href=https://colab.research.google.com/notebooks/data_table.ipynb>data table notebook</a>'\n",
              "            + ' to learn more about interactive tables.';\n",
              "          element.innerHTML = '';\n",
              "          dataTable['output_type'] = 'display_data';\n",
              "          await google.colab.output.renderOutput(dataTable, element);\n",
              "          const docLink = document.createElement('div');\n",
              "          docLink.innerHTML = docLinkHtml;\n",
              "          element.appendChild(docLink);\n",
              "        }\n",
              "      </script>\n",
              "    </div>\n",
              "  </div>\n",
              "  "
            ]
          },
          "metadata": {},
          "execution_count": 14
        }
      ],
      "source": [
        "df.corr()"
      ]
    },
    {
      "cell_type": "markdown",
      "id": "669552be",
      "metadata": {
        "id": "669552be"
      },
      "source": [
        "### Step 8: Splitting data\n",
        "\n",
        "#### About splitting\n",
        "If you want to build a solid model you have to follow that specific protocol of splitting your data into three sets: One for training, one for validation and one for final evaluation, which is the test set.\n",
        "\n",
        "The idea is that you train on your training data and tune your model with the results of metrics (accuracy, loss etc) that you get from your validation set.\n",
        "\n",
        "Your model doesn't \"see\" your validation set and isn't in any way trained on it, but you as the architect and master of the hyperparameters tune the model according to this data. Therefore it indirectly influences your model because it directly influences your design decisions. You nudge your model to work well with the validation data and that can possibly bring in a tilt.\n",
        "\n",
        "#### What to do?\n",
        "- Use the length of data and split it into\n",
        "    - 70% for training\n",
        "    - 20% for validation\n",
        "    - 10% for testing set"
      ]
    },
    {
      "cell_type": "code",
      "execution_count": null,
      "id": "111d64cb",
      "metadata": {
        "id": "111d64cb"
      },
      "outputs": [],
      "source": [
        "n = len(df)\n",
        "train_df = df[:int(n*7)]\n",
        "val_df = df[int(n*.7):int(n*.9)]\n",
        "test_df = df[int(n*.9):]"
      ]
    },
    {
      "cell_type": "code",
      "execution_count": null,
      "id": "5cf4a733",
      "metadata": {
        "id": "5cf4a733"
      },
      "outputs": [],
      "source": []
    },
    {
      "cell_type": "markdown",
      "id": "f13e8bc1",
      "metadata": {
        "id": "f13e8bc1"
      },
      "source": [
        "### Step 9: Normalize data\n",
        "- Only normalize data based on training data\n",
        "    - Notice you should only normalize the training data - because validation and test data could affect the normalization\n",
        "- Get the mean and standard deviation of the data\n",
        "    - HINT: Use **.mean()** and **.std()** on the dataframe.\n",
        "- Noramlize the data as follows\n",
        "    - **train_df = (train_df - train_mean) / train_std** (assuming naming fits)\n",
        "    - HINT: The transformation of validation and test data is done similarly with **train_mean** and **train_std**."
      ]
    },
    {
      "cell_type": "code",
      "execution_count": null,
      "id": "cc3eeb46",
      "metadata": {
        "id": "cc3eeb46"
      },
      "outputs": [],
      "source": [
        "train_mean = train_df.mean()\n",
        "train_std = train_df.std()"
      ]
    },
    {
      "cell_type": "code",
      "execution_count": null,
      "id": "eec78cb8",
      "metadata": {
        "id": "eec78cb8"
      },
      "outputs": [],
      "source": [
        "train_df = (train_df - train_mean) / train_std\n",
        "val_df = (val_df - train_mean) / train_std\n",
        "test_df = (test_df - train_mean) / train_std"
      ]
    },
    {
      "cell_type": "markdown",
      "id": "fd4b352f",
      "metadata": {
        "id": "fd4b352f"
      },
      "source": [
        "### Step 10: Create datasets\n",
        "<img src='https://raw.githubusercontent.com/LearnPythonWithRune/MachineLearningWithPython/main/jupyter/final/img/data_windowing.png' width=600 align='left'>"
      ]
    },
    {
      "cell_type": "markdown",
      "id": "f45502b3",
      "metadata": {
        "id": "f45502b3"
      },
      "source": [
        "- Make a function with **input_width** and **offset** - assume we always use **label_width=1**.\n",
        "- Call the function **create_dataset**, which takes arguments **df, input_width=24, offset=0, predict_column='T (degC)'**\n",
        "    - Let it create two empty lists **x** and **y**\n",
        "    - Convert the dataframe **df** to numpy and assign it to **data_x**\n",
        "    - Do the same for the **predict_column** but assign it to **data_y**\n",
        "    - Iterate over the range of starting from **input_width** to **len(data_x) - offset**\n",
        "        - Append to **x** with **data_x[i-input_width:i,:]**\n",
        "        - Append to **y** with **data_y[i + offset]**\n",
        "    - Convert **x** and **y** to numpy arrays\n",
        "        - HINT: Use **np.array(...)**\n",
        "    - Return the **x** and **y** (but reshape y with **reshape(-1, 1)**)\n",
        "- Apply the function on training, validation, and test data"
      ]
    },
    {
      "cell_type": "code",
      "execution_count": null,
      "id": "f3e928bd",
      "metadata": {
        "id": "f3e928bd"
      },
      "outputs": [],
      "source": [
        "def create_dataset(df, input_width=24, offset=0, predict_column='T (degC)'):\n",
        "  x=[]\n",
        "  y=[]\n",
        "\n",
        "  data_x = df.to_numpy()\n",
        "  data_y = df[predict_column].to_numpy()\n",
        "\n",
        "  for i in  range(input_width, len(data_x)- offset):\n",
        "    x.append(data_x[i-input_width:i,:])\n",
        "    y.append(data_y[i + offset])\n",
        "\n",
        "  x = np.array(x)\n",
        "  y = np.array(y)\n",
        "\n",
        "  return x, y.reshape(-1,1)"
      ]
    },
    {
      "cell_type": "code",
      "execution_count": null,
      "id": "ce339780",
      "metadata": {
        "id": "ce339780"
      },
      "outputs": [],
      "source": [
        "train_ds = create_dataset(train_df)\n",
        "val_ds = create_dataset(val_df)\n",
        "test_ds = create_dataset(test_df)"
      ]
    },
    {
      "cell_type": "code",
      "execution_count": null,
      "id": "3094ba59",
      "metadata": {
        "id": "3094ba59",
        "outputId": "818d2967-67a0-4ad5-ad2e-1897d2ca8977",
        "colab": {
          "base_uri": "https://localhost:8080/"
        }
      },
      "outputs": [
        {
          "output_type": "execute_result",
          "data": {
            "text/plain": [
              "(70067, 24, 15)"
            ]
          },
          "metadata": {},
          "execution_count": 29
        }
      ],
      "source": [
        "train_ds[0].shape"
      ]
    },
    {
      "cell_type": "code",
      "source": [
        "val_ds[0].shape"
      ],
      "metadata": {
        "colab": {
          "base_uri": "https://localhost:8080/"
        },
        "id": "1GyV9TTqYZAU",
        "outputId": "1d32d8ab-3595-4aa8-909d-c90746dc523b"
      },
      "id": "1GyV9TTqYZAU",
      "execution_count": null,
      "outputs": [
        {
          "output_type": "execute_result",
          "data": {
            "text/plain": [
              "(13994, 24, 15)"
            ]
          },
          "metadata": {},
          "execution_count": 30
        }
      ]
    },
    {
      "cell_type": "code",
      "source": [
        "test_ds[0].shape"
      ],
      "metadata": {
        "colab": {
          "base_uri": "https://localhost:8080/"
        },
        "id": "vUwXBWfCYdnQ",
        "outputId": "291a30dc-1db7-4cad-97d6-f8aa9af785e6"
      },
      "id": "vUwXBWfCYdnQ",
      "execution_count": null,
      "outputs": [
        {
          "output_type": "execute_result",
          "data": {
            "text/plain": [
              "(6986, 24, 15)"
            ]
          },
          "metadata": {},
          "execution_count": 31
        }
      ]
    },
    {
      "cell_type": "markdown",
      "id": "f7463011",
      "metadata": {
        "id": "f7463011"
      },
      "source": [
        "### Step 11: Create model\n",
        "- Create the following model\n",
        "    - **model = models.Sequential()**\n",
        "    - **model.add(layers.LSTM(32, return_sequences=True, input_shape=train_ds[0].shape[1:]))**\n",
        "    - **model.add(layers.Dense(units=1))**"
      ]
    },
    {
      "cell_type": "code",
      "execution_count": null,
      "id": "f8c09efe",
      "metadata": {
        "id": "f8c09efe"
      },
      "outputs": [],
      "source": [
        "model = models.Sequential()\n",
        "model.add(layers.LSTM(32, return_sequences=True, input_shape=train_ds[0].shape[1:]))\n",
        "model.add(layers.Dense(units=1))"
      ]
    },
    {
      "cell_type": "code",
      "execution_count": null,
      "id": "5106a26c",
      "metadata": {
        "id": "5106a26c"
      },
      "outputs": [],
      "source": []
    },
    {
      "cell_type": "markdown",
      "id": "3b681561",
      "metadata": {
        "id": "3b681561"
      },
      "source": [
        "### Step 12: Train model\n",
        "- Compile and fit the model\n",
        "- Complie the model as follows\n",
        "    - **model.compile(optimizer='adam', loss='mean_squared_error', metrics=['accuracy'])**\n",
        "- Fit the model as follows\n",
        "    - **model.fit(x=train_ds[0], y=train_ds[1], validation_data=(val_ds[0], val_ds[1]), epochs=5)**"
      ]
    },
    {
      "cell_type": "code",
      "execution_count": null,
      "id": "d582ae24",
      "metadata": {
        "id": "d582ae24",
        "outputId": "dc005d00-299b-4e5d-9f0f-0cf852a79ad2",
        "colab": {
          "base_uri": "https://localhost:8080/"
        }
      },
      "outputs": [
        {
          "output_type": "stream",
          "name": "stdout",
          "text": [
            "Epoch 1/5\n",
            "2190/2190 [==============================] - 29s 12ms/step - loss: 0.1134 - accuracy: 0.0000e+00 - val_loss: 0.0989 - val_accuracy: 0.0000e+00\n",
            "Epoch 2/5\n",
            "2190/2190 [==============================] - 29s 13ms/step - loss: 0.0891 - accuracy: 0.0000e+00 - val_loss: 0.0905 - val_accuracy: 0.0000e+00\n",
            "Epoch 3/5\n",
            "2190/2190 [==============================] - 32s 15ms/step - loss: 0.0857 - accuracy: 0.0000e+00 - val_loss: 0.0864 - val_accuracy: 0.0000e+00\n",
            "Epoch 4/5\n",
            "2190/2190 [==============================] - 35s 16ms/step - loss: 0.0843 - accuracy: 0.0000e+00 - val_loss: 0.0842 - val_accuracy: 0.0000e+00\n",
            "Epoch 5/5\n",
            "2190/2190 [==============================] - 29s 13ms/step - loss: 0.0830 - accuracy: 0.0000e+00 - val_loss: 0.0842 - val_accuracy: 0.0000e+00\n"
          ]
        },
        {
          "output_type": "execute_result",
          "data": {
            "text/plain": [
              "<keras.callbacks.History at 0x7fa6acd9da00>"
            ]
          },
          "metadata": {},
          "execution_count": 33
        }
      ],
      "source": [
        "model.compile(optimizer='adam', loss='mean_squared_error', metrics=['accuracy'])\n",
        "model.fit(x=train_ds[0], y=train_ds[1], validation_data=(val_ds[0], val_ds[1]), epochs=5)"
      ]
    },
    {
      "cell_type": "code",
      "execution_count": null,
      "id": "ba260fcc",
      "metadata": {
        "id": "ba260fcc"
      },
      "outputs": [],
      "source": []
    },
    {
      "cell_type": "code",
      "execution_count": null,
      "id": "c21e4e6e",
      "metadata": {
        "id": "c21e4e6e"
      },
      "outputs": [],
      "source": []
    },
    {
      "cell_type": "markdown",
      "id": "d4ecf642",
      "metadata": {
        "id": "d4ecf642"
      },
      "source": [
        "### Step 13: Predict data\n",
        "- Apply the model on the test data\n",
        "    - HINT: Use **model.predict(x)**, where **x** is assigned to the test data."
      ]
    },
    {
      "cell_type": "code",
      "execution_count": null,
      "id": "d8207f2e",
      "metadata": {
        "id": "d8207f2e"
      },
      "outputs": [],
      "source": [
        "x, y = test_ds"
      ]
    },
    {
      "cell_type": "code",
      "execution_count": null,
      "id": "a50d8650",
      "metadata": {
        "id": "a50d8650",
        "colab": {
          "base_uri": "https://localhost:8080/"
        },
        "outputId": "781644c6-562c-45ad-c0bd-e03e2175ef04"
      },
      "outputs": [
        {
          "output_type": "stream",
          "name": "stdout",
          "text": [
            "219/219 [==============================] - 1s 4ms/step\n"
          ]
        }
      ],
      "source": [
        "y_pred = model.predict(x)"
      ]
    },
    {
      "cell_type": "code",
      "execution_count": null,
      "id": "56f5e97a",
      "metadata": {
        "id": "56f5e97a",
        "outputId": "61f9cd3a-bd23-4d52-9e27-c72df529ac4a",
        "colab": {
          "base_uri": "https://localhost:8080/"
        }
      },
      "outputs": [
        {
          "output_type": "execute_result",
          "data": {
            "text/plain": [
              "(6986, 24, 1)"
            ]
          },
          "metadata": {},
          "execution_count": 36
        }
      ],
      "source": [
        "y_pred.shape"
      ]
    },
    {
      "cell_type": "markdown",
      "id": "984a5d8c",
      "metadata": {
        "id": "984a5d8c"
      },
      "source": [
        "### Step 14: Plot the result\n",
        "- Plot a window of the data predicted together with the actual data.\n",
        "- One way:\n",
        "    - **fig, ax = plt.subplots()**\n",
        "    - **ax.plot(y[i:i+96*2,0], c='g')**\n",
        "    - **ax.plot(pred[i:i+96*2,-1,0], c='r')**\n",
        "- It will plot a window of 96 hours, where you can index with **i** (**i=150** as an example) and **y** is the real values and **pred** are the predicted values"
      ]
    },
    {
      "cell_type": "code",
      "execution_count": null,
      "id": "a28422b8",
      "metadata": {
        "id": "a28422b8",
        "outputId": "20af3ef5-96db-4360-fff0-c88a4e76dd31",
        "colab": {
          "base_uri": "https://localhost:8080/",
          "height": 282
        }
      },
      "outputs": [
        {
          "output_type": "execute_result",
          "data": {
            "text/plain": [
              "[<matplotlib.lines.Line2D at 0x7fa6a5e43460>]"
            ]
          },
          "metadata": {},
          "execution_count": 37
        },
        {
          "output_type": "display_data",
          "data": {
            "text/plain": [
              "<Figure size 432x288 with 1 Axes>"
            ],
            "image/png": "[encoded data removed]"
          },
          "metadata": {
            "needs_background": "light"
          }
        }
      ],
      "source": [
        "fig, ax = plt.subplots()\n",
        "i=150\n",
        "ax.plot(y[i:i+96*2,0], c='g')\n",
        "ax.plot(y_pred[i:i+96*2,-1,0], c='r')"
      ]
    },
    {
      "cell_type": "code",
      "execution_count": null,
      "id": "7174ce98",
      "metadata": {
        "id": "7174ce98"
      },
      "outputs": [],
      "source": []
    },
    {
      "cell_type": "markdown",
      "id": "30ebd51c",
      "metadata": {
        "id": "30ebd51c"
      },
      "source": [
        "### Step 15 (Optional): Calculate the correlation\n",
        "- Create a dataframe with real and predicted values.\n",
        "- Apply the **.corr()** method on the dataframe."
      ]
    },
    {
      "cell_type": "code",
      "execution_count": null,
      "id": "28a60cce",
      "metadata": {
        "id": "28a60cce",
        "outputId": "41b27197-b368-4119-cd11-1096341937c3",
        "colab": {
          "base_uri": "https://localhost:8080/",
          "height": 112
        }
      },
      "outputs": [
        {
          "output_type": "execute_result",
          "data": {
            "text/plain": [
              "          real      pred\n",
              "real  1.000000  0.990697\n",
              "pred  0.990697  1.000000"
            ],
            "text/html": [
              "\n",
              "  <div id=\"df-d6e60b8d-d1c0-41c4-9211-10d58a50ffdc\">\n",
              "    <div class=\"colab-df-container\">\n",
              "      <div>\n",
              "<style scoped>\n",
              "    .dataframe tbody tr th:only-of-type {\n",
              "        vertical-align: middle;\n",
              "    }\n",
              "\n",
              "    .dataframe tbody tr th {\n",
              "        vertical-align: top;\n",
              "    }\n",
              "\n",
              "    .dataframe thead th {\n",
              "        text-align: right;\n",
              "    }\n",
              "</style>\n",
              "<table border=\"1\" class=\"dataframe\">\n",
              "  <thead>\n",
              "    <tr style=\"text-align: right;\">\n",
              "      <th></th>\n",
              "      <th>real</th>\n",
              "      <th>pred</th>\n",
              "    </tr>\n",
              "  </thead>\n",
              "  <tbody>\n",
              "    <tr>\n",
              "      <th>real</th>\n",
              "      <td>1.000000</td>\n",
              "      <td>0.990697</td>\n",
              "    </tr>\n",
              "    <tr>\n",
              "      <th>pred</th>\n",
              "      <td>0.990697</td>\n",
              "      <td>1.000000</td>\n",
              "    </tr>\n",
              "  </tbody>\n",
              "</table>\n",
              "</div>\n",
              "      <button class=\"colab-df-convert\" onclick=\"convertToInteractive('df-d6e60b8d-d1c0-41c4-9211-10d58a50ffdc')\"\n",
              "              title=\"Convert this dataframe to an interactive table.\"\n",
              "              style=\"display:none;\">\n",
              "        \n",
              "  <svg xmlns=\"http://www.w3.org/2000/svg\" height=\"24px\"viewBox=\"0 0 24 24\"\n",
              "       width=\"24px\">\n",
              "    <path d=\"M0 0h24v24H0V0z\" fill=\"none\"/>\n",
              "    <path d=\"M18.56 5.44l.94 2.06.94-2.06 2.06-.94-2.06-.94-.94-2.06-.94 2.06-2.06.94zm-11 1L8.5 8.5l.94-2.06 2.06-.94-2.06-.94L8.5 2.5l-.94 2.06-2.06.94zm10 10l.94 2.06.94-2.06 2.06-.94-2.06-.94-.94-2.06-.94 2.06-2.06.94z\"/><path d=\"M17.41 7.96l-1.37-1.37c-.4-.4-.92-.59-1.43-.59-.52 0-1.04.2-1.43.59L10.3 9.45l-7.72 7.72c-.78.78-.78 2.05 0 2.83L4 21.41c.39.39.9.59 1.41.59.51 0 1.02-.2 1.41-.59l7.78-7.78 2.81-2.81c.8-.78.8-2.07 0-2.86zM5.41 20L4 18.59l7.72-7.72 1.47 1.35L5.41 20z\"/>\n",
              "  </svg>\n",
              "      </button>\n",
              "      \n",
              "  <style>\n",
              "    .colab-df-container {\n",
              "      display:flex;\n",
              "      flex-wrap:wrap;\n",
              "      gap: 12px;\n",
              "    }\n",
              "\n",
              "    .colab-df-convert {\n",
              "      background-color: #E8F0FE;\n",
              "      border: none;\n",
              "      border-radius: 50%;\n",
              "      cursor: pointer;\n",
              "      display: none;\n",
              "      fill: #1967D2;\n",
              "      height: 32px;\n",
              "      padding: 0 0 0 0;\n",
              "      width: 32px;\n",
              "    }\n",
              "\n",
              "    .colab-df-convert:hover {\n",
              "      background-color: #E2EBFA;\n",
              "      box-shadow: 0px 1px 2px rgba(60, 64, 67, 0.3), 0px 1px 3px 1px rgba(60, 64, 67, 0.15);\n",
              "      fill: #174EA6;\n",
              "    }\n",
              "\n",
              "    [theme=dark] .colab-df-convert {\n",
              "      background-color: #3B4455;\n",
              "      fill: #D2E3FC;\n",
              "    }\n",
              "\n",
              "    [theme=dark] .colab-df-convert:hover {\n",
              "      background-color: #434B5C;\n",
              "      box-shadow: 0px 1px 3px 1px rgba(0, 0, 0, 0.15);\n",
              "      filter: drop-shadow(0px 1px 2px rgba(0, 0, 0, 0.3));\n",
              "      fill: #FFFFFF;\n",
              "    }\n",
              "  </style>\n",
              "\n",
              "      <script>\n",
              "        const buttonEl =\n",
              "          document.querySelector('#df-d6e60b8d-d1c0-41c4-9211-10d58a50ffdc button.colab-df-convert');\n",
              "        buttonEl.style.display =\n",
              "          google.colab.kernel.accessAllowed ? 'block' : 'none';\n",
              "\n",
              "        async function convertToInteractive(key) {\n",
              "          const element = document.querySelector('#df-d6e60b8d-d1c0-41c4-9211-10d58a50ffdc');\n",
              "          const dataTable =\n",
              "            await google.colab.kernel.invokeFunction('convertToInteractive',\n",
              "                                                     [key], {});\n",
              "          if (!dataTable) return;\n",
              "\n",
              "          const docLinkHtml = 'Like what you see? Visit the ' +\n",
              "            '<a target=\"_blank\" href=https://colab.research.google.com/notebooks/data_table.ipynb>data table notebook</a>'\n",
              "            + ' to learn more about interactive tables.';\n",
              "          element.innerHTML = '';\n",
              "          dataTable['output_type'] = 'display_data';\n",
              "          await google.colab.output.renderOutput(dataTable, element);\n",
              "          const docLink = document.createElement('div');\n",
              "          docLink.innerHTML = docLinkHtml;\n",
              "          element.appendChild(docLink);\n",
              "        }\n",
              "      </script>\n",
              "    </div>\n",
              "  </div>\n",
              "  "
            ]
          },
          "metadata": {},
          "execution_count": 38
        }
      ],
      "source": [
        "df_c = pd.DataFrame({'real':y[:,0], 'pred': y_pred[:,-1,0]})\n",
        "\n",
        "df_c.corr()"
      ]
    },
    {
      "cell_type": "code",
      "execution_count": null,
      "id": "90a0a546",
      "metadata": {
        "id": "90a0a546"
      },
      "outputs": [],
      "source": []
    },
    {
      "cell_type": "code",
      "execution_count": null,
      "id": "75182f81",
      "metadata": {
        "id": "75182f81"
      },
      "outputs": [],
      "source": []
    }
  ],
  "metadata": {
    "language_info": {
      "name": "python"
    },
    "colab": {
      "provenance": []
    },
    "kernelspec": {
      "name": "python3",
      "display_name": "Python 3"
    },
    "gpuClass": "standard"
  },
  "nbformat": 4,
  "nbformat_minor": 5
}